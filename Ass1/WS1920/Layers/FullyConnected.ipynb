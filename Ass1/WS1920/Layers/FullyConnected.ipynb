{
 "cells": [
  {
   "cell_type": "code",
   "execution_count": null,
   "metadata": {},
   "outputs": [],
   "source": [
    "import os.path\n",
    "import json\n",
    "import math\n",
    "import scipy.misc\n",
    "import numpy as np\n",
    "import matplotlib.pyplot as plt\n",
    "\n",
    "class FullyConnected:\n",
    "    def __init__(self, input_size, output_size):\n",
    "        self.input_size = np.random.uniform(0,1)\n",
    "        self.output_size = np.random.uniform(0,1)\n",
    "        #self.learning_rate = float(learning_rate)\n",
    "        \n",
    "        \n",
    "\n",
    "    def forward(input_tensor):\n",
    "        \n",
    "        \n",
    "        return input_tensor_next\n",
    "    \n",
    "    def backward(error_tensor):\n",
    "        \n",
    "        return updated_weight\n",
    "    \n",
    "    \n",
    "    def set_optimizer(optimizer):\n",
    "        \n",
    "        return updated_weight\n",
    "    \n",
    "    def weights(optimizer):\n",
    "        \n",
    "        return gradient_weights\n",
    "    \n",
    "    \n",
    "   "
   ]
  }
 ],
 "metadata": {
  "kernelspec": {
   "display_name": "Python 3",
   "language": "python",
   "name": "python3"
  },
  "language_info": {
   "codemirror_mode": {
    "name": "ipython",
    "version": 3
   },
   "file_extension": ".py",
   "mimetype": "text/x-python",
   "name": "python",
   "nbconvert_exporter": "python",
   "pygments_lexer": "ipython3",
   "version": "3.7.4"
  }
 },
 "nbformat": 4,
 "nbformat_minor": 2
}
