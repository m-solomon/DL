{
 "cells": [
  {
   "cell_type": "code",
   "execution_count": 2,
   "metadata": {},
   "outputs": [],
   "source": [
    "import os.path\n",
    "import json\n",
    "import scipy.misc\n",
    "import numpy as np\n",
    "import matplotlib.pyplot as plt"
   ]
  },
  {
   "cell_type": "code",
   "execution_count": 65,
   "metadata": {},
   "outputs": [],
   "source": [
    "class Checker:\n",
    "    def __init__(self, resolution, tile_size):\n",
    "        self.resolution = resolution\n",
    "        self.tile_size = tile_size\n",
    "        self.output = self.draw()\n",
    "        \n",
    "\n",
    "    def draw(self):\n",
    "        Img_H = self.resolution\n",
    "        tile_H = self.tile_size\n",
    "        if Img_H % (2*tile_H) == 0:\n",
    "            tb = np.zeros((tile_H, tile_H))\n",
    "            tw = np.ones((tile_H, tile_H))\n",
    "            self.output = np.tile(np.concatenate((np.concatenate((tb, tw), axis=1), np.concatenate((tw, tb), axis=1)) ,axis=0),(Img_H//(2*tile_H),Img_H//(2*tile_H))).astype('float64')\n",
    "            return np.copy(self.output)\n",
    "        else:\n",
    "            return print(\"Error: Resolution must be evenly dividable by 2*tile size in each dimention\")\n",
    "\n",
    "    def show(self):\n",
    "        if self.resolution % (2*self.tile_size) == 0:\n",
    "            plt.imshow(self.output, cmap=plt.cm.gray)\n",
    "            plt.show()\n",
    "        else:\n",
    "            return print(\"Error: Resolution must be evenly dividable by 2*tile size in each dimention\")\n",
    "\n",
    "        \n",
    "        \n",
    "class Color_Spectrum:\n",
    "    def __init__(self, resolution):\n",
    "        self.resolution = resolution\n",
    "        self.output = self.draw()\n",
    "\n",
    "    def draw(self):\n",
    "        spec_H = self.resolution\n",
    "        rgbArray = np.zeros((spec_H,spec_H,3))\n",
    "        rgbArray[:,:,0] = np.tile(np.linspace(0, 1, spec_H), (spec_H,1))\n",
    "        rgbArray[:,:,1] = np.tile(np.linspace(0, 1, spec_H), (spec_H,1)).T\n",
    "        rgbArray[:,:,2] = np.flip(rgbArray[:,:,0])\n",
    "        self.output = rgbArray\n",
    "              \n",
    "        return np.copy(self.output)\n",
    "\n",
    "    def show(self):\n",
    "        plt.imshow(self.output)\n",
    "        plt.show()\n",
    "        \n",
    "class Circle:\n",
    "    def __init__(self, resolution, radius, position):\n",
    "        self.resolution = resolution\n",
    "        self.radius = radius\n",
    "        self.position = position\n",
    "        self.output = self.draw()\n",
    "\n",
    "    def draw(self):\n",
    "        spec_H = self.resolution\n",
    "        r = self.radius\n",
    "        (cx, cy) = self.position\n",
    "        X = np.tile(np.arange(0,spec_H,1), (spec_H,1))\n",
    "        Y = np.tile(np.arange(0,spec_H,1), (spec_H,1)).T\n",
    "        C = lambda x, y: (x-cx)**2 + (y-cy)**2 - r**2\n",
    "        s = np.sign(C(X,Y))\n",
    "        s[s == -1] = 0\n",
    "        self.output = np.invert(s)+2\n",
    "              \n",
    "        return np.copy(self.output)\n",
    "\n",
    "    def show(self):\n",
    "        plt.imshow(self.output, cmap=plt.cm.gray)\n",
    "        plt.show()\n"
   ]
  },
  {
   "cell_type": "code",
   "execution_count": 66,
   "metadata": {},
   "outputs": [],
   "source": [
    "r = (100, 150)\n",
    "t = (10,15)\n",
    "ch = Checker(100,10)"
   ]
  },
  {
   "cell_type": "code",
   "execution_count": 51,
   "metadata": {},
   "outputs": [
    {
     "data": {
      "text/plain": [
       "array([[0., 0., 0., 0., 0.],\n",
       "       [0., 0., 0., 0., 0.],\n",
       "       [0., 0., 0., 0., 0.],\n",
       "       [0., 0., 0., 0., 0.],\n",
       "       [0., 0., 0., 0., 0.]])"
      ]
     },
     "execution_count": 51,
     "metadata": {},
     "output_type": "execute_result"
    }
   ],
   "source": [
    "np.zeros((5,5))"
   ]
  },
  {
   "cell_type": "code",
   "execution_count": 52,
   "metadata": {},
   "outputs": [
    {
     "data": {
      "text/plain": [
       "array([[0., 0., 0., ..., 1., 1., 1.],\n",
       "       [0., 0., 0., ..., 1., 1., 1.],\n",
       "       [0., 0., 0., ..., 1., 1., 1.],\n",
       "       ...,\n",
       "       [1., 1., 1., ..., 0., 0., 0.],\n",
       "       [1., 1., 1., ..., 0., 0., 0.],\n",
       "       [1., 1., 1., ..., 0., 0., 0.]])"
      ]
     },
     "execution_count": 52,
     "metadata": {},
     "output_type": "execute_result"
    }
   ],
   "source": [
    "ch.draw()"
   ]
  },
  {
   "cell_type": "code",
   "execution_count": 67,
   "metadata": {},
   "outputs": [
    {
     "data": {
      "image/png": "[encoded data removed]",
      "text/plain": [
       "<Figure size 432x288 with 1 Axes>"
      ]
     },
     "metadata": {
      "needs_background": "light"
     },
     "output_type": "display_data"
    }
   ],
   "source": [
    "ch.show()"
   ]
  },
  {
   "cell_type": "code",
   "execution_count": 59,
   "metadata": {},
   "outputs": [],
   "source": [
    "cs = Color_Spectrum(200)"
   ]
  },
  {
   "cell_type": "code",
   "execution_count": 60,
   "metadata": {},
   "outputs": [
    {
     "data": {
      "text/plain": [
       "array([[[0.        , 0.        , 1.        ],\n",
       "        [0.00502513, 0.        , 0.99497487],\n",
       "        [0.01005025, 0.        , 0.98994975],\n",
       "        ...,\n",
       "        [0.98994975, 0.        , 0.01005025],\n",
       "        [0.99497487, 0.        , 0.00502513],\n",
       "        [1.        , 0.        , 0.        ]],\n",
       "\n",
       "       [[0.        , 0.00502513, 1.        ],\n",
       "        [0.00502513, 0.00502513, 0.99497487],\n",
       "        [0.01005025, 0.00502513, 0.98994975],\n",
       "        ...,\n",
       "        [0.98994975, 0.00502513, 0.01005025],\n",
       "        [0.99497487, 0.00502513, 0.00502513],\n",
       "        [1.        , 0.00502513, 0.        ]],\n",
       "\n",
       "       [[0.        , 0.01005025, 1.        ],\n",
       "        [0.00502513, 0.01005025, 0.99497487],\n",
       "        [0.01005025, 0.01005025, 0.98994975],\n",
       "        ...,\n",
       "        [0.98994975, 0.01005025, 0.01005025],\n",
       "        [0.99497487, 0.01005025, 0.00502513],\n",
       "        [1.        , 0.01005025, 0.        ]],\n",
       "\n",
       "       ...,\n",
       "\n",
       "       [[0.        , 0.98994975, 1.        ],\n",
       "        [0.00502513, 0.98994975, 0.99497487],\n",
       "        [0.01005025, 0.98994975, 0.98994975],\n",
       "        ...,\n",
       "        [0.98994975, 0.98994975, 0.01005025],\n",
       "        [0.99497487, 0.98994975, 0.00502513],\n",
       "        [1.        , 0.98994975, 0.        ]],\n",
       "\n",
       "       [[0.        , 0.99497487, 1.        ],\n",
       "        [0.00502513, 0.99497487, 0.99497487],\n",
       "        [0.01005025, 0.99497487, 0.98994975],\n",
       "        ...,\n",
       "        [0.98994975, 0.99497487, 0.01005025],\n",
       "        [0.99497487, 0.99497487, 0.00502513],\n",
       "        [1.        , 0.99497487, 0.        ]],\n",
       "\n",
       "       [[0.        , 1.        , 1.        ],\n",
       "        [0.00502513, 1.        , 0.99497487],\n",
       "        [0.01005025, 1.        , 0.98994975],\n",
       "        ...,\n",
       "        [0.98994975, 1.        , 0.01005025],\n",
       "        [0.99497487, 1.        , 0.00502513],\n",
       "        [1.        , 1.        , 0.        ]]])"
      ]
     },
     "execution_count": 60,
     "metadata": {},
     "output_type": "execute_result"
    }
   ],
   "source": [
    "cs.draw()"
   ]
  },
  {
   "cell_type": "code",
   "execution_count": 61,
   "metadata": {},
   "outputs": [
    {
     "data": {
      "image/png": "[encoded data removed]",
      "text/plain": [
       "<Figure size 432x288 with 1 Axes>"
      ]
     },
     "metadata": {
      "needs_background": "light"
     },
     "output_type": "display_data"
    }
   ],
   "source": [
    "cs.show()"
   ]
  },
  {
   "cell_type": "code",
   "execution_count": 53,
   "metadata": {},
   "outputs": [],
   "source": [
    "res = 200\n",
    "r = 70\n",
    "P = (150, 125)\n",
    "\n",
    "c = Circle(res, r, P)"
   ]
  },
  {
   "cell_type": "code",
   "execution_count": 54,
   "metadata": {},
   "outputs": [
    {
     "data": {
      "text/plain": [
       "array([[0, 0, 0, ..., 0, 0, 0],\n",
       "       [0, 0, 0, ..., 0, 0, 0],\n",
       "       [0, 0, 0, ..., 0, 0, 0],\n",
       "       ...,\n",
       "       [0, 0, 0, ..., 0, 0, 0],\n",
       "       [0, 0, 0, ..., 0, 0, 0],\n",
       "       [0, 0, 0, ..., 0, 0, 0]], dtype=int32)"
      ]
     },
     "execution_count": 54,
     "metadata": {},
     "output_type": "execute_result"
    }
   ],
   "source": [
    "c.draw()"
   ]
  },
  {
   "cell_type": "code",
   "execution_count": 55,
   "metadata": {},
   "outputs": [
    {
     "data": {
      "image/png": "[encoded data removed]",
      "text/plain": [
       "<Figure size 432x288 with 1 Axes>"
      ]
     },
     "metadata": {
      "needs_background": "light"
     },
     "output_type": "display_data"
    }
   ],
   "source": [
    "c.show()"
   ]
  },
  {
   "cell_type": "code",
   "execution_count": null,
   "metadata": {},
   "outputs": [],
   "source": []
  }
 ],
 "metadata": {
  "kernelspec": {
   "display_name": "Python 3",
   "language": "python",
   "name": "python3"
  },
  "language_info": {
   "codemirror_mode": {
    "name": "ipython",
    "version": 3
   },
   "file_extension": ".py",
   "mimetype": "text/x-python",
   "name": "python",
   "nbconvert_exporter": "python",
   "pygments_lexer": "ipython3",
   "version": "3.7.4"
  }
 },
 "nbformat": 4,
 "nbformat_minor": 2
}
