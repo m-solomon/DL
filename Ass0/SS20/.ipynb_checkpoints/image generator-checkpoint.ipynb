{
 "cells": [
  {
   "cell_type": "code",
   "execution_count": null,
   "metadata": {},
   "outputs": [],
   "source": [
    "import os.path\n",
    "import json\n",
    "import scipy.misc\n",
    "import numpy as np\n",
    "import matplotlib.pyplot as plt\n",
    "\n",
    "# In this exercise task you will implement an image generator. Generator objects in python are defined as having a next function.\n",
    "# This next function returns the next generated object. In our case it returns the input of a neural network each time it gets called.\n",
    "# This input consists of a batch of images and its corresponding labels.\n",
    "class ImageGenerator:\n",
    "    def __init__(self, file_path, label_path, batch_size, image_size, rotation=False, mirroring=False, shuffle=False):\n",
    "        # Define all members of your generator class object as global members here.\n",
    "        # These need to include:\n",
    "        # the batch size\n",
    "        # the image size\n",
    "        # flags for different augmentations and whether the data should be shuffled for each epoch\n",
    "        # Also depending on the size of your data-set you can consider loading all images into memory here already.\n",
    "        # The labels are stored in json format and can be directly loaded as dictionary.\n",
    "        # Note that the file names correspond to the dicts of the label dictionary.\n",
    "        self.file_path = file_path\n",
    "        self.label_path = label_path\n",
    "        self.batch_size = batch_size\n",
    "        self.image_size = image_size\n",
    "        self.rotation = rotation\n",
    "        self.mirroring = mirroring\n",
    "        self.shuffle = shuffles\n",
    "        self.class_dict = {0: 'airplane', 1: 'automobile', 2: 'bird', 3: 'cat', 4: 'deer', 5: 'dog', 6: 'frog',\n",
    "                           7: 'horse', 8: 'ship', 9: 'truck'}\n",
    "        #TODO: implement constructor\n",
    "\n",
    "    def next(self):\n",
    "        # This function creates a batch of images and corresponding labels and returns it.\n",
    "        # Note that your amount of total data might not be divisible without remainder with the batch_size.\n",
    "        # Think about how to handle such cases\n",
    "        #TODO: implement next method\n",
    "\n",
    "        return batch, labels\n",
    "\n",
    "    def augment(self,img):\n",
    "        # this function takes a single image as an input and performs a random transformation\n",
    "        # (mirroring and/or rotation) on it and outputs the transformed image\n",
    "        #TODO: implement augmentation function\n",
    "\n",
    "        return img\n",
    "\n",
    "    def class_name(self, x):\n",
    "        # This function returns the class name for a specific input\n",
    "        #TODO: implement class name function\n",
    "        return\n",
    "    \n",
    "    \n",
    "    def show(self):\n",
    "        # In order to verify that the generator creates batches as required, this functions calls next to get a\n",
    "        # batch of images and labels and visualizes it.\n",
    "        #TODO: implement show method\n"
   ]
  },
  {
   "cell_type": "code",
   "execution_count": null,
   "metadata": {},
   "outputs": [],
   "source": [
    "import os.path\n",
    "#import json\n",
    "#import scipy.misc\n",
    "#import numpy as np\n",
    "#import matplotlib.pyplot as plt"
   ]
  },
  {
   "cell_type": "code",
   "execution_count": null,
   "metadata": {},
   "outputs": [],
   "source": [
    "with open('data.txt') as json_file:\n",
    "    data = json.load(json_file)"
   ]
  },
  {
   "cell_type": "code",
   "execution_count": null,
   "metadata": {},
   "outputs": [],
   "source": []
  }
 ],
 "metadata": {
  "kernelspec": {
   "display_name": "Python 3",
   "language": "python",
   "name": "python3"
  },
  "language_info": {
   "codemirror_mode": {
    "name": "ipython",
    "version": 3
   },
   "file_extension": ".py",
   "mimetype": "text/x-python",
   "name": "python",
   "nbconvert_exporter": "python",
   "pygments_lexer": "ipython3",
   "version": "3.7.4"
  }
 },
 "nbformat": 4,
 "nbformat_minor": 2
}
