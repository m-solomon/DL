{
 "cells": [
  {
   "cell_type": "code",
   "execution_count": 1,
   "metadata": {},
   "outputs": [],
   "source": [
    "import numpy as np"
   ]
  },
  {
   "cell_type": "code",
   "execution_count": 12,
   "metadata": {},
   "outputs": [
    {
     "data": {
      "text/plain": [
       "array([[0., 0.],\n",
       "       [0., 0.]])"
      ]
     },
     "execution_count": 12,
     "metadata": {},
     "output_type": "execute_result"
    }
   ],
   "source": [
    "tb = np.zeros((2,2))\n",
    "tb"
   ]
  },
  {
   "cell_type": "code",
   "execution_count": 11,
   "metadata": {},
   "outputs": [],
   "source": [
    "tw = np.ones((2,2))"
   ]
  },
  {
   "cell_type": "code",
   "execution_count": 13,
   "metadata": {},
   "outputs": [
    {
     "data": {
      "text/plain": [
       "array([[0., 0., 1., 1.],\n",
       "       [0., 0., 1., 1.],\n",
       "       [1., 1., 0., 0.],\n",
       "       [1., 1., 0., 0.]])"
      ]
     },
     "execution_count": 13,
     "metadata": {},
     "output_type": "execute_result"
    }
   ],
   "source": [
    "np.concatenate((np.concatenate((tb, tw), axis=1), np.concatenate((tw, tb), axis=1)) ,axis=0)"
   ]
  },
  {
   "cell_type": "code",
   "execution_count": 19,
   "metadata": {},
   "outputs": [
    {
     "data": {
      "text/plain": [
       "array([[0., 0., 1., 1., 0., 0., 1., 1.],\n",
       "       [0., 0., 1., 1., 0., 0., 1., 1.],\n",
       "       [1., 1., 0., 0., 1., 1., 0., 0.],\n",
       "       [1., 1., 0., 0., 1., 1., 0., 0.],\n",
       "       [0., 0., 1., 1., 0., 0., 1., 1.],\n",
       "       [0., 0., 1., 1., 0., 0., 1., 1.],\n",
       "       [1., 1., 0., 0., 1., 1., 0., 0.],\n",
       "       [1., 1., 0., 0., 1., 1., 0., 0.]])"
      ]
     },
     "execution_count": 19,
     "metadata": {},
     "output_type": "execute_result"
    }
   ],
   "source": [
    "chess= np.tile(np.concatenate((np.concatenate((tb, tw), axis=1), np.concatenate((tw, tb), axis=1)) ,axis=0),(8//(2*2),8//(2*2)))  \n",
    "chess"
   ]
  },
  {
   "cell_type": "code",
   "execution_count": 22,
   "metadata": {},
   "outputs": [],
   "source": [
    "import matplotlib.pyplot as plt\n",
    "import matplotlib.cm as cm\n",
    "import numpy as np\n",
    "\n",
    "plt.imsave('filename.png', np.array(chess).reshape(5000,5000), cmap=cm.gray)"
   ]
  },
  {
   "cell_type": "code",
   "execution_count": 25,
   "metadata": {},
   "outputs": [
    {
     "data": {
      "text/plain": [
       "(100, 100)"
      ]
     },
     "execution_count": 25,
     "metadata": {},
     "output_type": "execute_result"
    }
   ],
   "source": [
    "np.concatenate((np.concatenate((tb, tw), axis=1), np.concatenate((tb, tw), axis=1)) ,axis=0).shape"
   ]
  },
  {
   "cell_type": "code",
   "execution_count": 26,
   "metadata": {},
   "outputs": [],
   "source": [
    "tb = np.zeros((50,50))\n",
    "tw = np.ones((50,50))\n",
    "strips= np.tile(np.concatenate((np.concatenate((tb, tw), axis=1), np.concatenate((tb, tw), axis=1)) ,axis=0),(50,50))  "
   ]
  },
  {
   "cell_type": "code",
   "execution_count": 29,
   "metadata": {},
   "outputs": [],
   "source": [
    "plt.imsave('strips.png', np.array(strips).reshape(5000,5000), cmap=cm.gray)"
   ]
  },
  {
   "cell_type": "code",
   "execution_count": 31,
   "metadata": {},
   "outputs": [],
   "source": [
    "tb = np.zeros((50,50))\n",
    "tw = np.ones((50,50))\n",
    "strips_h= np.tile(np.concatenate((np.concatenate((tb, tw), axis=0), np.concatenate((tb, tw), axis=0)) ,axis=1),(50,50)) "
   ]
  },
  {
   "cell_type": "code",
   "execution_count": 34,
   "metadata": {},
   "outputs": [],
   "source": [
    "plt.imsave('strips_h.png', np.array(strips_h).reshape(5000,5000), cmap=cm.gray)"
   ]
  },
  {
   "cell_type": "code",
   "execution_count": 10,
   "metadata": {},
   "outputs": [],
   "source": [
    "a = np.asarray([[1,2,3],[4,5,6],[7,8,9], [10, 11, 12]])"
   ]
  },
  {
   "cell_type": "code",
   "execution_count": 13,
   "metadata": {},
   "outputs": [
    {
     "data": {
      "text/plain": [
       "array([5.5, 6.5, 7.5])"
      ]
     },
     "execution_count": 13,
     "metadata": {},
     "output_type": "execute_result"
    }
   ],
   "source": [
    "np.mean(a, axis=0 ) "
   ]
  },
  {
   "cell_type": "code",
   "execution_count": 14,
   "metadata": {},
   "outputs": [
    {
     "data": {
      "text/plain": [
       "array([[ 1,  2,  3],\n",
       "       [ 4,  5,  6],\n",
       "       [ 7,  8,  9],\n",
       "       [10, 11, 12]])"
      ]
     },
     "execution_count": 14,
     "metadata": {},
     "output_type": "execute_result"
    }
   ],
   "source": [
    "a"
   ]
  },
  {
   "cell_type": "code",
   "execution_count": 20,
   "metadata": {},
   "outputs": [],
   "source": [
    "from scipy import signal\n",
    "a_re = signal.resample(a, 2, axis=0)"
   ]
  },
  {
   "cell_type": "code",
   "execution_count": 16,
   "metadata": {},
   "outputs": [
    {
     "data": {
      "text/plain": [
       "array([[ 2.5,  3.5,  4.5],\n",
       "       [ 8.5,  9.5, 10.5]])"
      ]
     },
     "execution_count": 16,
     "metadata": {},
     "output_type": "execute_result"
    }
   ],
   "source": [
    "a_re"
   ]
  },
  {
   "cell_type": "code",
   "execution_count": 7,
   "metadata": {},
   "outputs": [
    {
     "data": {
      "text/plain": [
       "True"
      ]
     },
     "execution_count": 7,
     "metadata": {},
     "output_type": "execute_result"
    }
   ],
   "source": [
    "n=10\n",
    "k=2\n",
    "\n",
    "n % k == 0"
   ]
  },
  {
   "cell_type": "code",
   "execution_count": 35,
   "metadata": {},
   "outputs": [],
   "source": [
    "def draw(resolution, tile_size):\n",
    "        (Img_H, Img_W) = resolution\n",
    "        (tile_H, tile_W) = tile_size\n",
    "        if Img_H % (2*tile_H) == 0 and Img_W % (2*tile_W) == 0:\n",
    "            tb = np.zeros((tile_H, tile_W))\n",
    "            tw = np.ones((tile_H, tile_W))\n",
    "            chess = np.tile(np.concatenate((np.concatenate((tb, tw), axis=1), np.concatenate((tw, tb), axis=1)) ,axis=0),(Img_H//(2*tile_H),Img_W//(2*tile_W)))\n",
    "            return chess\n",
    "        else:\n",
    "            return print(\"Error: Resolution must be evenly dividable by 2*tile size in each dimention\")\n",
    "        \n",
    "            \n",
    "            "
   ]
  },
  {
   "cell_type": "code",
   "execution_count": 42,
   "metadata": {},
   "outputs": [],
   "source": [
    "a = draw((100,100),(5,5))"
   ]
  },
  {
   "cell_type": "code",
   "execution_count": 44,
   "metadata": {},
   "outputs": [
    {
     "data": {
      "image/png": "[encoded data removed]",
      "text/plain": [
       "<Figure size 432x288 with 1 Axes>"
      ]
     },
     "metadata": {
      "needs_background": "light"
     },
     "output_type": "display_data"
    }
   ],
   "source": [
    "import matplotlib.pyplot as plt\n",
    "plt.imshow(a, cmap=plt.cm.gray)\n",
    "plt.show()"
   ]
  },
  {
   "cell_type": "code",
   "execution_count": 45,
   "metadata": {},
   "outputs": [],
   "source": [
    "def show(self):\n",
    "        plt.imshow(self, cmap=plt.cm.gray)\n",
    "        plt.show()"
   ]
  },
  {
   "cell_type": "code",
   "execution_count": 46,
   "metadata": {},
   "outputs": [
    {
     "data": {
      "image/png": "[encoded data removed]",
      "text/plain": [
       "<Figure size 432x288 with 1 Axes>"
      ]
     },
     "metadata": {
      "needs_background": "light"
     },
     "output_type": "display_data"
    }
   ],
   "source": [
    "show(a)"
   ]
  },
  {
   "cell_type": "code",
   "execution_count": 53,
   "metadata": {},
   "outputs": [
    {
     "data": {
      "text/plain": [
       "array([0.        , 0.06666667, 0.13333333, 0.2       , 0.26666667,\n",
       "       0.33333333, 0.4       , 0.46666667, 0.53333333, 0.6       ,\n",
       "       0.66666667, 0.73333333, 0.8       , 0.86666667, 0.93333333,\n",
       "       1.        ])"
      ]
     },
     "execution_count": 53,
     "metadata": {},
     "output_type": "execute_result"
    }
   ],
   "source": [
    "a = np.linspace(0, 1, 16)\n",
    "a"
   ]
  },
  {
   "cell_type": "code",
   "execution_count": 52,
   "metadata": {},
   "outputs": [
    {
     "data": {
      "text/plain": [
       "array([[0.        , 0.06666667, 0.13333333, 0.2       ],\n",
       "       [0.26666667, 0.33333333, 0.4       , 0.46666667],\n",
       "       [0.53333333, 0.6       , 0.66666667, 0.73333333],\n",
       "       [0.8       , 0.86666667, 0.93333333, 1.        ]])"
      ]
     },
     "execution_count": 52,
     "metadata": {},
     "output_type": "execute_result"
    }
   ],
   "source": [
    "np.reshape(a, (4,4))"
   ]
  },
  {
   "cell_type": "code",
   "execution_count": 54,
   "metadata": {},
   "outputs": [
    {
     "name": "stdout",
     "output_type": "stream",
     "text": [
      "(218, 218, 3)\n"
     ]
    }
   ],
   "source": [
    "import imageio\n",
    "\n",
    "im = imageio.imread('spec.png')\n",
    "print(im.shape)"
   ]
  },
  {
   "cell_type": "code",
   "execution_count": 97,
   "metadata": {},
   "outputs": [
    {
     "data": {
      "text/plain": [
       "<matplotlib.image.AxesImage at 0x1603d5fbac8>"
      ]
     },
     "execution_count": 97,
     "metadata": {},
     "output_type": "execute_result"
    },
    {
     "data": {
      "image/png": "[encoded data removed]",
      "text/plain": [
       "<Figure size 432x288 with 1 Axes>"
      ]
     },
     "metadata": {
      "needs_background": "light"
     },
     "output_type": "display_data"
    }
   ],
   "source": [
    "plt.imshow(im[:,:,0], cmap=plt.cm.gray)"
   ]
  },
  {
   "cell_type": "code",
   "execution_count": 68,
   "metadata": {},
   "outputs": [
    {
     "data": {
      "text/plain": [
       "<matplotlib.image.AxesImage at 0x1603c383fc8>"
      ]
     },
     "execution_count": 68,
     "metadata": {},
     "output_type": "execute_result"
    },
    {
     "data": {
      "image/png": "[encoded data removed]",
      "text/plain": [
       "<Figure size 432x288 with 1 Axes>"
      ]
     },
     "metadata": {
      "needs_background": "light"
     },
     "output_type": "display_data"
    }
   ],
   "source": [
    "plt.imshow(im[:,:,1], cmap=plt.cm.gray)"
   ]
  },
  {
   "cell_type": "code",
   "execution_count": 69,
   "metadata": {},
   "outputs": [
    {
     "data": {
      "text/plain": [
       "<matplotlib.image.AxesImage at 0x1603c3f4408>"
      ]
     },
     "execution_count": 69,
     "metadata": {},
     "output_type": "execute_result"
    },
    {
     "data": {
      "image/png": "[encoded data removed]",
      "text/plain": [
       "<Figure size 432x288 with 1 Axes>"
      ]
     },
     "metadata": {
      "needs_background": "light"
     },
     "output_type": "display_data"
    }
   ],
   "source": [
    "plt.imshow(im[:,:,2], cmap=plt.cm.gray)"
   ]
  },
  {
   "cell_type": "code",
   "execution_count": 60,
   "metadata": {},
   "outputs": [
    {
     "data": {
      "text/plain": [
       "Array([[254, 253, 252, ...,   2,   1,   0],\n",
       "       [254, 253, 252, ...,   2,   1,   0],\n",
       "       [254, 253, 252, ...,   2,   1,   0],\n",
       "       ...,\n",
       "       [254, 253, 252, ...,   2,   1,   0],\n",
       "       [254, 253, 252, ...,   2,   1,   0],\n",
       "       [254, 253, 252, ...,   2,   1,   0]], dtype=uint8)"
      ]
     },
     "execution_count": 60,
     "metadata": {},
     "output_type": "execute_result"
    }
   ],
   "source": [
    "im[:,:,2]"
   ]
  },
  {
   "cell_type": "code",
   "execution_count": 66,
   "metadata": {},
   "outputs": [
    {
     "data": {
      "text/plain": [
       "array([  0,   1,   2,   3,   4,   5,   6,   7,   8,   9,  10,  11,  12,\n",
       "        13,  14,  15,  16,  17,  18,  19,  20,  21,  22,  23,  24,  25,\n",
       "        26,  27,  28,  29,  30,  31,  32,  33,  34,  35,  36,  37,  38,\n",
       "        39,  40,  41,  42,  43,  44,  45,  46,  47,  48,  49,  50,  51,\n",
       "        52,  53,  54,  55,  56,  57,  58,  59,  60,  61,  62,  63,  64,\n",
       "        65,  66,  67,  68,  69,  70,  71,  72,  73,  74,  75,  76,  77,\n",
       "        78,  79,  80,  81,  82,  83,  84,  85,  86,  87,  88,  89,  90,\n",
       "        91,  92,  93,  94,  95,  96,  97,  98,  99, 100, 101, 102, 103,\n",
       "       104, 105, 106, 107, 108, 109, 110, 111, 112, 113, 114, 115, 116,\n",
       "       117, 118, 119, 120, 121, 122, 123, 124, 125, 126, 127, 128, 129,\n",
       "       130, 131, 132, 133, 134, 135, 136, 137, 138, 139, 140, 141, 142,\n",
       "       143, 144, 145, 146, 147, 148, 149, 150, 151, 152, 153, 154, 155,\n",
       "       156, 157, 158, 159, 160, 161, 162, 163, 164, 165, 166, 167, 168,\n",
       "       169, 170, 171, 172, 173, 174, 175, 176, 177, 178, 179, 180, 181,\n",
       "       182, 183, 184, 185, 186, 187, 188, 189, 190, 191, 192, 193, 194,\n",
       "       195, 196, 197, 198, 199, 200, 201, 202, 203, 204, 205, 206, 207,\n",
       "       208, 209, 210, 211, 212, 213, 214, 215, 216, 217, 218, 219, 220,\n",
       "       221, 222, 223, 224, 225, 226, 227, 228, 229, 230, 231, 232, 233,\n",
       "       234, 235, 236, 237, 238, 239, 240, 241, 242, 243, 244, 245, 246,\n",
       "       247, 248, 249, 250, 251, 252, 253, 254, 255])"
      ]
     },
     "execution_count": 66,
     "metadata": {},
     "output_type": "execute_result"
    }
   ],
   "source": [
    "np.arange(0,256,1).T"
   ]
  },
  {
   "cell_type": "code",
   "execution_count": 76,
   "metadata": {},
   "outputs": [
    {
     "data": {
      "text/plain": [
       "array([0.        , 0.11111111, 0.22222222, 0.33333333, 0.44444444,\n",
       "       0.55555556, 0.66666667, 0.77777778, 0.88888889, 1.        ])"
      ]
     },
     "execution_count": 76,
     "metadata": {},
     "output_type": "execute_result"
    }
   ],
   "source": [
    "a = np.linspace(0, 1, 10)\n",
    "a"
   ]
  },
  {
   "cell_type": "code",
   "execution_count": 86,
   "metadata": {},
   "outputs": [
    {
     "ename": "ValueError",
     "evalue": "could not broadcast input array from shape (50,100) into shape (100,50)",
     "output_type": "error",
     "traceback": [
      "\u001b[1;31m---------------------------------------------------------------------------\u001b[0m",
      "\u001b[1;31mValueError\u001b[0m                                Traceback (most recent call last)",
      "\u001b[1;32m<ipython-input-86-22b97461dfa3>\u001b[0m in \u001b[0;36m<module>\u001b[1;34m\u001b[0m\n\u001b[0;32m      4\u001b[0m \u001b[0mrgbArray\u001b[0m \u001b[1;33m=\u001b[0m \u001b[0mnp\u001b[0m\u001b[1;33m.\u001b[0m\u001b[0mzeros\u001b[0m\u001b[1;33m(\u001b[0m\u001b[1;33m(\u001b[0m\u001b[0mspec_W\u001b[0m\u001b[1;33m,\u001b[0m\u001b[0mspec_H\u001b[0m\u001b[1;33m,\u001b[0m\u001b[1;36m3\u001b[0m\u001b[1;33m)\u001b[0m\u001b[1;33m)\u001b[0m\u001b[1;33m\u001b[0m\u001b[1;33m\u001b[0m\u001b[0m\n\u001b[0;32m      5\u001b[0m \u001b[1;33m\u001b[0m\u001b[0m\n\u001b[1;32m----> 6\u001b[1;33m \u001b[0mrgbArray\u001b[0m\u001b[1;33m[\u001b[0m\u001b[1;33m:\u001b[0m\u001b[1;33m,\u001b[0m\u001b[1;33m:\u001b[0m\u001b[1;33m,\u001b[0m\u001b[1;36m0\u001b[0m\u001b[1;33m]\u001b[0m \u001b[1;33m=\u001b[0m \u001b[0mnp\u001b[0m\u001b[1;33m.\u001b[0m\u001b[0mtile\u001b[0m\u001b[1;33m(\u001b[0m\u001b[0mnp\u001b[0m\u001b[1;33m.\u001b[0m\u001b[0mlinspace\u001b[0m\u001b[1;33m(\u001b[0m\u001b[1;36m0\u001b[0m\u001b[1;33m,\u001b[0m \u001b[1;36m1\u001b[0m\u001b[1;33m,\u001b[0m \u001b[0mspec_W\u001b[0m\u001b[1;33m)\u001b[0m\u001b[1;33m,\u001b[0m \u001b[1;33m(\u001b[0m\u001b[0mspec_H\u001b[0m\u001b[1;33m,\u001b[0m\u001b[1;36m1\u001b[0m\u001b[1;33m)\u001b[0m\u001b[1;33m)\u001b[0m\u001b[1;33m\u001b[0m\u001b[1;33m\u001b[0m\u001b[0m\n\u001b[0m\u001b[0;32m      7\u001b[0m \u001b[0mrgbArray\u001b[0m\u001b[1;33m[\u001b[0m\u001b[1;33m:\u001b[0m\u001b[1;33m,\u001b[0m\u001b[1;33m:\u001b[0m\u001b[1;33m,\u001b[0m\u001b[1;36m1\u001b[0m\u001b[1;33m]\u001b[0m \u001b[1;33m=\u001b[0m \u001b[0mrgbArray\u001b[0m\u001b[1;33m[\u001b[0m\u001b[1;33m:\u001b[0m\u001b[1;33m,\u001b[0m\u001b[1;33m:\u001b[0m\u001b[1;33m,\u001b[0m\u001b[1;36m0\u001b[0m\u001b[1;33m]\u001b[0m\u001b[1;33m.\u001b[0m\u001b[0mT\u001b[0m\u001b[1;33m\u001b[0m\u001b[1;33m\u001b[0m\u001b[0m\n\u001b[0;32m      8\u001b[0m \u001b[0mrgbArray\u001b[0m\u001b[1;33m[\u001b[0m\u001b[1;33m:\u001b[0m\u001b[1;33m,\u001b[0m\u001b[1;33m:\u001b[0m\u001b[1;33m,\u001b[0m\u001b[1;36m2\u001b[0m\u001b[1;33m]\u001b[0m \u001b[1;33m=\u001b[0m \u001b[0mnp\u001b[0m\u001b[1;33m.\u001b[0m\u001b[0mflip\u001b[0m\u001b[1;33m(\u001b[0m\u001b[0mrgbArray\u001b[0m\u001b[1;33m[\u001b[0m\u001b[1;33m:\u001b[0m\u001b[1;33m,\u001b[0m\u001b[1;33m:\u001b[0m\u001b[1;33m,\u001b[0m\u001b[1;36m0\u001b[0m\u001b[1;33m]\u001b[0m\u001b[1;33m)\u001b[0m\u001b[1;33m\u001b[0m\u001b[1;33m\u001b[0m\u001b[0m\n",
      "\u001b[1;31mValueError\u001b[0m: could not broadcast input array from shape (50,100) into shape (100,50)"
     ]
    }
   ],
   "source": [
    "spec_W = 100\n",
    "spec_H = 50\n",
    "\n",
    "rgbArray = np.zeros((spec_W,spec_H,3))\n",
    "\n",
    "rgbArray[:,:,0] = np.tile(np.linspace(0, 1, spec_W), (spec_H,1))\n",
    "rgbArray[:,:,1] = rgbArray[:,:,0].T\n",
    "rgbArray[:,:,2] = np.flip(rgbArray[:,:,0])"
   ]
  },
  {
   "cell_type": "code",
   "execution_count": 106,
   "metadata": {},
   "outputs": [
    {
     "data": {
      "text/plain": [
       "<matplotlib.image.AxesImage at 0x1603d83d6c8>"
      ]
     },
     "execution_count": 106,
     "metadata": {},
     "output_type": "execute_result"
    },
    {
     "data": {
      "image/png": "[encoded data removed]",
      "text/plain": [
       "<Figure size 432x288 with 1 Axes>"
      ]
     },
     "metadata": {
      "needs_background": "light"
     },
     "output_type": "display_data"
    }
   ],
   "source": [
    "plt.imshow(rgbArray)"
   ]
  },
  {
   "cell_type": "code",
   "execution_count": 104,
   "metadata": {},
   "outputs": [],
   "source": [
    "spec_W = 100\n",
    "spec_H = 50\n",
    "\n",
    "rgbArray = np.zeros((spec_H,spec_W,3))\n",
    "rgbArray[:,:,0] = np.tile(np.linspace(0, 1, spec_W), (spec_H,1))\n",
    "rgbArray[:,:,1] = np.tile(np.linspace(0, 1, spec_H), (spec_W,1)).T\n",
    "rgbArray[:,:,2] = np.flip(rgbArray[:,:,0])"
   ]
  },
  {
   "cell_type": "code",
   "execution_count": 122,
   "metadata": {},
   "outputs": [
    {
     "data": {
      "text/plain": [
       "array([[0.        , 0.01010101, 0.02020202, ..., 0.97979798, 0.98989899,\n",
       "        1.        ],\n",
       "       [0.        , 0.01010101, 0.02020202, ..., 0.97979798, 0.98989899,\n",
       "        1.        ],\n",
       "       [0.        , 0.01010101, 0.02020202, ..., 0.97979798, 0.98989899,\n",
       "        1.        ],\n",
       "       ...,\n",
       "       [0.        , 0.01010101, 0.02020202, ..., 0.97979798, 0.98989899,\n",
       "        1.        ],\n",
       "       [0.        , 0.01010101, 0.02020202, ..., 0.97979798, 0.98989899,\n",
       "        1.        ],\n",
       "       [0.        , 0.01010101, 0.02020202, ..., 0.97979798, 0.98989899,\n",
       "        1.        ]])"
      ]
     },
     "execution_count": 122,
     "metadata": {},
     "output_type": "execute_result"
    }
   ],
   "source": [
    " np.tile(np.linspace(0, 1, 100), (50,1))"
   ]
  },
  {
   "cell_type": "code",
   "execution_count": 102,
   "metadata": {},
   "outputs": [
    {
     "data": {
      "text/plain": [
       "<matplotlib.image.AxesImage at 0x1603d7d0508>"
      ]
     },
     "execution_count": 102,
     "metadata": {},
     "output_type": "execute_result"
    },
    {
     "data": {
      "image/png": "[encoded data removed]",
      "text/plain": [
       "<Figure size 432x288 with 1 Axes>"
      ]
     },
     "metadata": {
      "needs_background": "light"
     },
     "output_type": "display_data"
    }
   ],
   "source": [
    "plt.imshow(np.tile(np.linspace(0, 1, spec_W), (spec_H,1)), cmap=plt.cm.gray)"
   ]
  },
  {
   "cell_type": "code",
   "execution_count": 101,
   "metadata": {},
   "outputs": [
    {
     "data": {
      "text/plain": [
       "<matplotlib.image.AxesImage at 0x1603d77b5c8>"
      ]
     },
     "execution_count": 101,
     "metadata": {},
     "output_type": "execute_result"
    },
    {
     "data": {
      "image/png": "[encoded data removed]",
      "text/plain": [
       "<Figure size 432x288 with 1 Axes>"
      ]
     },
     "metadata": {
      "needs_background": "light"
     },
     "output_type": "display_data"
    }
   ],
   "source": [
    "plt.imshow(np.tile(np.linspace(0, 1, 50), (100,1)).T, cmap=plt.cm.gray)"
   ]
  },
  {
   "cell_type": "code",
   "execution_count": 107,
   "metadata": {},
   "outputs": [
    {
     "data": {
      "text/plain": [
       "array([[[0.        , 0.        , 1.        ],\n",
       "        [0.01010101, 0.        , 0.98989899],\n",
       "        [0.02020202, 0.        , 0.97979798],\n",
       "        ...,\n",
       "        [0.97979798, 0.        , 0.02020202],\n",
       "        [0.98989899, 0.        , 0.01010101],\n",
       "        [1.        , 0.        , 0.        ]],\n",
       "\n",
       "       [[0.        , 0.02040816, 1.        ],\n",
       "        [0.01010101, 0.02040816, 0.98989899],\n",
       "        [0.02020202, 0.02040816, 0.97979798],\n",
       "        ...,\n",
       "        [0.97979798, 0.02040816, 0.02020202],\n",
       "        [0.98989899, 0.02040816, 0.01010101],\n",
       "        [1.        , 0.02040816, 0.        ]],\n",
       "\n",
       "       [[0.        , 0.04081633, 1.        ],\n",
       "        [0.01010101, 0.04081633, 0.98989899],\n",
       "        [0.02020202, 0.04081633, 0.97979798],\n",
       "        ...,\n",
       "        [0.97979798, 0.04081633, 0.02020202],\n",
       "        [0.98989899, 0.04081633, 0.01010101],\n",
       "        [1.        , 0.04081633, 0.        ]],\n",
       "\n",
       "       ...,\n",
       "\n",
       "       [[0.        , 0.95918367, 1.        ],\n",
       "        [0.01010101, 0.95918367, 0.98989899],\n",
       "        [0.02020202, 0.95918367, 0.97979798],\n",
       "        ...,\n",
       "        [0.97979798, 0.95918367, 0.02020202],\n",
       "        [0.98989899, 0.95918367, 0.01010101],\n",
       "        [1.        , 0.95918367, 0.        ]],\n",
       "\n",
       "       [[0.        , 0.97959184, 1.        ],\n",
       "        [0.01010101, 0.97959184, 0.98989899],\n",
       "        [0.02020202, 0.97959184, 0.97979798],\n",
       "        ...,\n",
       "        [0.97979798, 0.97959184, 0.02020202],\n",
       "        [0.98989899, 0.97959184, 0.01010101],\n",
       "        [1.        , 0.97959184, 0.        ]],\n",
       "\n",
       "       [[0.        , 1.        , 1.        ],\n",
       "        [0.01010101, 1.        , 0.98989899],\n",
       "        [0.02020202, 1.        , 0.97979798],\n",
       "        ...,\n",
       "        [0.97979798, 1.        , 0.02020202],\n",
       "        [0.98989899, 1.        , 0.01010101],\n",
       "        [1.        , 1.        , 0.        ]]])"
      ]
     },
     "execution_count": 107,
     "metadata": {},
     "output_type": "execute_result"
    }
   ],
   "source": [
    "rgbArray"
   ]
  },
  {
   "cell_type": "code",
   "execution_count": 110,
   "metadata": {},
   "outputs": [],
   "source": [
    "\n",
    "\n",
    "\n",
    "bina = np.zeros((spec_H,spec_W))\n"
   ]
  },
  {
   "cell_type": "code",
   "execution_count": 109,
   "metadata": {},
   "outputs": [
    {
     "data": {
      "text/plain": [
       "array([[0., 0., 0., ..., 0., 0., 0.],\n",
       "       [0., 0., 0., ..., 0., 0., 0.],\n",
       "       [0., 0., 0., ..., 0., 0., 0.],\n",
       "       ...,\n",
       "       [0., 0., 0., ..., 0., 0., 0.],\n",
       "       [0., 0., 0., ..., 0., 0., 0.],\n",
       "       [0., 0., 0., ..., 0., 0., 0.]])"
      ]
     },
     "execution_count": 109,
     "metadata": {},
     "output_type": "execute_result"
    }
   ],
   "source": [
    "bina[]"
   ]
  },
  {
   "cell_type": "code",
   "execution_count": null,
   "metadata": {},
   "outputs": [],
   "source": [
    "# theta goes from 0 to 2pi\n",
    "theta = np.linspace(0, 2*np.pi, 100)\n",
    "\n",
    "# the radius of the circle\n",
    "r = np.sqrt(0.6)\n",
    "\n",
    "# compute x1 and x2\n",
    "x1 = r*np.cos(theta)\n",
    "x2 = r*np.sin(theta)\n",
    "\n",
    "# create the figure\n",
    "fig, ax = plt.subplots(1)\n",
    "ax.plot(x1, x2)\n",
    "ax.set_aspect(1)\n",
    "plt.show()\n",
    "Result:"
   ]
  },
  {
   "cell_type": "code",
   "execution_count": null,
   "metadata": {},
   "outputs": [],
   "source": [
    "bina[(-)/()]"
   ]
  },
  {
   "cell_type": "code",
   "execution_count": 112,
   "metadata": {},
   "outputs": [],
   "source": [
    "C = lambda x, y: (x-cx)**2 + (y-cy)**2 - r**2"
   ]
  },
  {
   "cell_type": "code",
   "execution_count": 118,
   "metadata": {},
   "outputs": [
    {
     "data": {
      "text/plain": [
       "2401"
      ]
     },
     "execution_count": 118,
     "metadata": {},
     "output_type": "execute_result"
    }
   ],
   "source": [
    "C(69,0)"
   ]
  },
  {
   "cell_type": "code",
   "execution_count": 129,
   "metadata": {},
   "outputs": [],
   "source": [
    "X = np.tile(np.arange(0,spec_W,1), (spec_H,1))  #np.arange(0,spec_W,1)\n",
    "Y = np.tile(np.arange(0,spec_H,1), (spec_W,1)).T\n",
    "\n"
   ]
  },
  {
   "cell_type": "code",
   "execution_count": 158,
   "metadata": {},
   "outputs": [],
   "source": [
    "s = C(X,Y)"
   ]
  },
  {
   "cell_type": "code",
   "execution_count": 155,
   "metadata": {},
   "outputs": [],
   "source": [
    "#s[s<0] = 1\n",
    "#s[s>0] = 0\n",
    "\n",
    "s[s > 0] = 0\n",
    "\n",
    "s[s > 0] = 0"
   ]
  },
  {
   "cell_type": "code",
   "execution_count": 177,
   "metadata": {},
   "outputs": [
    {
     "data": {
      "text/plain": [
       "array([0, 1], dtype=int32)"
      ]
     },
     "execution_count": 177,
     "metadata": {},
     "output_type": "execute_result"
    }
   ],
   "source": [
    "s = np.sign(C(X,Y))\n",
    "s[s == -1] = 0\n",
    "\n",
    "Circle = np.invert(s)+2\n",
    "\n",
    "np.unique(Circle)"
   ]
  },
  {
   "cell_type": "code",
   "execution_count": 153,
   "metadata": {},
   "outputs": [
    {
     "data": {
      "text/plain": [
       "<matplotlib.image.AxesImage at 0x1603da15f08>"
      ]
     },
     "execution_count": 153,
     "metadata": {},
     "output_type": "execute_result"
    },
    {
     "data": {
      "image/png": "[encoded data removed]",
      "text/plain": [
       "<Figure size 432x288 with 1 Axes>"
      ]
     },
     "metadata": {
      "needs_background": "light"
     },
     "output_type": "display_data"
    }
   ],
   "source": [
    "plt.imshow(-np.sign(s))"
   ]
  },
  {
   "cell_type": "code",
   "execution_count": 152,
   "metadata": {},
   "outputs": [
    {
     "data": {
      "text/plain": [
       "array([-1,  0,  1], dtype=int32)"
      ]
     },
     "execution_count": 152,
     "metadata": {},
     "output_type": "execute_result"
    }
   ],
   "source": [
    "np.unique(np.sign(s))"
   ]
  },
  {
   "cell_type": "code",
   "execution_count": 171,
   "metadata": {},
   "outputs": [
    {
     "data": {
      "text/plain": [
       "<matplotlib.image.AxesImage at 0x1603dc47b48>"
      ]
     },
     "execution_count": 171,
     "metadata": {},
     "output_type": "execute_result"
    },
    {
     "data": {
      "image/png": "[encoded data removed]",
      "text/plain": [
       "<Figure size 432x288 with 1 Axes>"
      ]
     },
     "metadata": {
      "needs_background": "light"
     },
     "output_type": "display_data"
    }
   ],
   "source": [
    "plt.imshow(Circle,  cmap=plt.cm.gray)"
   ]
  },
  {
   "cell_type": "code",
   "execution_count": 170,
   "metadata": {},
   "outputs": [],
   "source": [
    "spec_H = 100\n",
    "spec_W = 80\n",
    "r = 20\n",
    "cx = 49\n",
    "cy = 30\n",
    "X = np.tile(np.arange(0,spec_W,1), (spec_H,1))\n",
    "Y = np.tile(np.arange(0,spec_H,1), (spec_W,1)).T\n",
    "\n",
    "\n",
    "C = lambda x, y: (x-cx)**2 + (y-cy)**2 - r**2\n",
    "\n",
    "\n",
    "\n",
    "s = np.sign(C(X,Y))\n",
    "s[s == -1] = 0\n",
    "\n",
    "Circle = np.invert(s)"
   ]
  },
  {
   "cell_type": "code",
   "execution_count": 198,
   "metadata": {},
   "outputs": [
    {
     "data": {
      "text/plain": [
       "{'45': 1,\n",
       " '24': 9,\n",
       " '15': 9,\n",
       " '23': 7,\n",
       " '9': 5,\n",
       " '40': 7,\n",
       " '94': 8,\n",
       " '59': 7,\n",
       " '48': 4,\n",
       " '1': 7,\n",
       " '80': 9,\n",
       " '77': 0,\n",
       " '2': 1,\n",
       " '28': 1,\n",
       " '87': 1,\n",
       " '44': 5,\n",
       " '84': 5,\n",
       " '35': 4,\n",
       " '21': 9,\n",
       " '27': 9,\n",
       " '66': 7,\n",
       " '8': 9,\n",
       " '19': 8,\n",
       " '36': 4,\n",
       " '56': 8,\n",
       " '58': 1,\n",
       " '76': 5,\n",
       " '60': 9,\n",
       " '85': 2,\n",
       " '54': 7,\n",
       " '30': 2,\n",
       " '7': 9,\n",
       " '38': 0,\n",
       " '98': 1,\n",
       " '25': 1,\n",
       " '82': 1,\n",
       " '95': 4,\n",
       " '62': 6,\n",
       " '99': 1,\n",
       " '17': 7,\n",
       " '31': 8,\n",
       " '57': 5,\n",
       " '72': 0,\n",
       " '53': 5,\n",
       " '69': 0,\n",
       " '63': 5,\n",
       " '18': 7,\n",
       " '88': 4,\n",
       " '67': 9,\n",
       " '55': 8,\n",
       " '74': 6,\n",
       " '12': 0,\n",
       " '71': 4,\n",
       " '81': 5,\n",
       " '13': 8,\n",
       " '83': 4,\n",
       " '5': 7,\n",
       " '47': 4,\n",
       " '22': 1,\n",
       " '51': 4,\n",
       " '96': 2,\n",
       " '49': 6,\n",
       " '14': 6,\n",
       " '79': 8,\n",
       " '61': 0,\n",
       " '78': 6,\n",
       " '39': 2,\n",
       " '0': 4,\n",
       " '34': 7,\n",
       " '90': 3,\n",
       " '68': 0,\n",
       " '4': 4,\n",
       " '10': 3,\n",
       " '70': 8,\n",
       " '93': 3,\n",
       " '89': 1,\n",
       " '6': 5,\n",
       " '75': 7,\n",
       " '32': 2,\n",
       " '29': 2,\n",
       " '33': 8,\n",
       " '52': 7,\n",
       " '91': 7,\n",
       " '46': 1,\n",
       " '20': 3,\n",
       " '42': 9,\n",
       " '50': 3,\n",
       " '37': 2,\n",
       " '97': 0,\n",
       " '64': 1,\n",
       " '73': 6,\n",
       " '43': 1,\n",
       " '26': 3,\n",
       " '65': 1,\n",
       " '3': 0,\n",
       " '16': 0,\n",
       " '11': 9,\n",
       " '86': 7,\n",
       " '92': 5,\n",
       " '41': 9}"
      ]
     },
     "execution_count": 198,
     "metadata": {},
     "output_type": "execute_result"
    }
   ],
   "source": [
    "import json\n",
    "dic = json.load(open('src_to_implement/Labels.json'))\n",
    "dic"
   ]
  },
  {
   "cell_type": "code",
   "execution_count": 199,
   "metadata": {},
   "outputs": [
    {
     "data": {
      "text/plain": [
       "dict_values([1, 9, 9, 7, 5, 7, 8, 7, 4, 7, 9, 0, 1, 1, 1, 5, 5, 4, 9, 9, 7, 9, 8, 4, 8, 1, 5, 9, 2, 7, 2, 9, 0, 1, 1, 1, 4, 6, 1, 7, 8, 5, 0, 5, 0, 5, 7, 4, 9, 8, 6, 0, 4, 5, 8, 4, 7, 4, 1, 4, 2, 6, 6, 8, 0, 6, 2, 4, 7, 3, 0, 4, 3, 8, 3, 1, 5, 7, 2, 2, 8, 7, 7, 1, 3, 9, 3, 2, 0, 1, 6, 1, 3, 1, 0, 0, 9, 7, 5, 9])"
      ]
     },
     "execution_count": 199,
     "metadata": {},
     "output_type": "execute_result"
    }
   ],
   "source": [
    "dic.values()"
   ]
  },
  {
   "cell_type": "code",
   "execution_count": 247,
   "metadata": {},
   "outputs": [
    {
     "data": {
      "text/plain": [
       "dict_keys(['45', '24', '15', '23', '9', '40', '94', '59', '48', '1', '80', '77', '2', '28', '87', '44', '84', '35', '21', '27', '66', '8', '19', '36', '56', '58', '76', '60', '85', '54', '30', '7', '38', '98', '25', '82', '95', '62', '99', '17', '31', '57', '72', '53', '69', '63', '18', '88', '67', '55', '74', '12', '71', '81', '13', '83', '5', '47', '22', '51', '96', '49', '14', '79', '61', '78', '39', '0', '34', '90', '68', '4', '10', '70', '93', '89', '6', '75', '32', '29', '33', '52', '91', '46', '20', '42', '50', '37', '97', '64', '73', '43', '26', '65', '3', '16', '11', '86', '92', '41'])"
      ]
     },
     "execution_count": 247,
     "metadata": {},
     "output_type": "execute_result"
    }
   ],
   "source": [
    "dic.keys()"
   ]
  },
  {
   "cell_type": "code",
   "execution_count": 254,
   "metadata": {},
   "outputs": [],
   "source": [
    "no_of_imgs = len(np.asarray(list(dic.items())))"
   ]
  },
  {
   "cell_type": "code",
   "execution_count": 237,
   "metadata": {},
   "outputs": [
    {
     "data": {
      "text/plain": [
       "array([['12', '0'],\n",
       "       ['31', '8'],\n",
       "       ['65', '1'],\n",
       "       ['78', '6']], dtype='<U2')"
      ]
     },
     "execution_count": 237,
     "metadata": {},
     "output_type": "execute_result"
    }
   ],
   "source": [
    "import random\n",
    "random_batch = np.asarray(random.choices(list(dic.items()), k=4))\n",
    "random_batch"
   ]
  },
  {
   "cell_type": "code",
   "execution_count": 240,
   "metadata": {},
   "outputs": [],
   "source": [
    "t=(random_batch[:, 0],random_batch[:, 1])"
   ]
  },
  {
   "cell_type": "code",
   "execution_count": 241,
   "metadata": {},
   "outputs": [
    {
     "ename": "AttributeError",
     "evalue": "'tuple' object has no attribute 'shape'",
     "output_type": "error",
     "traceback": [
      "\u001b[1;31m---------------------------------------------------------------------------\u001b[0m",
      "\u001b[1;31mAttributeError\u001b[0m                            Traceback (most recent call last)",
      "\u001b[1;32m<ipython-input-241-d68eea4137f8>\u001b[0m in \u001b[0;36m<module>\u001b[1;34m\u001b[0m\n\u001b[1;32m----> 1\u001b[1;33m \u001b[0mt\u001b[0m\u001b[1;33m.\u001b[0m\u001b[0mshape\u001b[0m\u001b[1;33m\u001b[0m\u001b[1;33m\u001b[0m\u001b[0m\n\u001b[0m",
      "\u001b[1;31mAttributeError\u001b[0m: 'tuple' object has no attribute 'shape'"
     ]
    }
   ],
   "source": [
    "t.shape"
   ]
  },
  {
   "cell_type": "code",
   "execution_count": 242,
   "metadata": {},
   "outputs": [],
   "source": [
    "array_reloaded = np.load('src_to_implement/exercise_data/12.npy')"
   ]
  },
  {
   "cell_type": "code",
   "execution_count": 246,
   "metadata": {},
   "outputs": [
    {
     "data": {
      "text/plain": [
       "32"
      ]
     },
     "execution_count": 246,
     "metadata": {},
     "output_type": "execute_result"
    }
   ],
   "source": [
    "len(array_reloaded)"
   ]
  },
  {
   "cell_type": "code",
   "execution_count": null,
   "metadata": {},
   "outputs": [],
   "source": [
    "for i in range(batch_size):\n",
    "    eval('im'+i+)\n",
    "    "
   ]
  },
  {
   "cell_type": "code",
   "execution_count": 376,
   "metadata": {},
   "outputs": [],
   "source": [
    "file_path = 'src_to_implement/exercise_data'\n",
    "label_path =  'src_to_implement/Labels.json'\n",
    "batch_size = 15\n",
    "image_size =  [32, 32, 3]\n",
    "rotation=False\n",
    "mirroring=False\n",
    "shuffle=False\n",
    "\n",
    "import json\n",
    "dic = json.load(open(label_path))\n",
    "dataset_length = len(dic)\n",
    "dataset = np.zeros((dataset_length, image_size[0],image_size[1],image_size[2]), dtype='uint8')\n",
    "\n",
    "if shuffle:\n",
    "    d = list(dic.items())\n",
    "    random.shuffle (d)\n",
    "    lables_dic = dict(d)\n",
    "    \n",
    "else:\n",
    "    lables_dic = dic\n"
   ]
  },
  {
   "cell_type": "code",
   "execution_count": 391,
   "metadata": {},
   "outputs": [],
   "source": [
    "for i in range(dataset_length):\n",
    "    img = np.load(file_path+'/'+list(lables_dic.keys())[i]+'.npy')\n",
    "    np.resize(img,(image_size[0],image_size[1], image_size[2]))\n",
    "    dataset[i,:,:,:] = img"
   ]
  },
  {
   "cell_type": "code",
   "execution_count": 427,
   "metadata": {},
   "outputs": [],
   "source": [
    "import math\n",
    "all_lables = np.asarray(list(lables_dic.items()))[:,1]\n",
    "no_of_batches = math.ceil(dataset_length/batch_size)\n",
    "list_of_batches = np.zeros((no_of_batches,batch_size, image_size[0],image_size[1],image_size[2]), dtype='uint8')\n",
    "list_of_lables = np.zeros((no_of_batches,batch_size), dtype='uint8')\n",
    "\n",
    "\n",
    "for n in range(dataset_length//batch_size):\n",
    "    list_of_batches[n,:,:,:,:]= dataset[n*batch_size:(n+1)*batch_size,:,:,:]\n",
    "    list_of_lables[n,:] = all_lables[n*batch_size:(n+1)*batch_size]\n",
    "    \n",
    "    \n",
    "    \n",
    "if dataset_length % batch_size != 0:\n",
    "    list_of_batches[no_of_batches-1, 0:dataset_length%batch_size,:,:,:] = dataset[dataset_length//batch_size*batch_size:dataset_length,:,:,:]\n",
    "    list_of_lables[no_of_batches-1, 0:dataset_length%batch_size] = all_lables[dataset_length//batch_size*batch_size:dataset_length]\n",
    "    list_of_batches[no_of_batches-1, dataset_length%batch_size:batch_size,:,:,:] = dataset[0:batch_size-(dataset_length%batch_size),:,:,:]\n",
    "    list_of_lables[no_of_batches-1, dataset_length%batch_size:batch_size] = all_lables[0:batch_size-(dataset_length%batch_size)]\n",
    "\n",
    "    \n",
    "batch_chosen = random.randint(0,no_of_batches-1)\n",
    "\n",
    "batch = list_of_batches[batch_chosen,:,:,:,:]\n",
    "labels = list_of_lables[batch_chosen,:]"
   ]
  },
  {
   "cell_type": "code",
   "execution_count": 429,
   "metadata": {},
   "outputs": [
    {
     "data": {
      "text/plain": [
       "array([[1, 9, 9, 7, 5, 7, 8, 7, 4, 7, 9, 0, 1, 1, 1],\n",
       "       [5, 5, 4, 9, 9, 7, 9, 8, 4, 8, 1, 5, 9, 2, 7],\n",
       "       [2, 9, 0, 1, 1, 1, 4, 6, 1, 7, 8, 5, 0, 5, 0],\n",
       "       [5, 7, 4, 9, 8, 6, 0, 4, 5, 8, 4, 7, 4, 1, 4],\n",
       "       [2, 6, 6, 8, 0, 6, 2, 4, 7, 3, 0, 4, 3, 8, 3],\n",
       "       [1, 5, 7, 2, 2, 8, 7, 7, 1, 3, 9, 3, 2, 0, 1],\n",
       "       [6, 1, 3, 1, 0, 0, 9, 7, 5, 9, 1, 9, 9, 7, 5]], dtype=uint8)"
      ]
     },
     "execution_count": 429,
     "metadata": {},
     "output_type": "execute_result"
    }
   ],
   "source": [
    "list_of_lables"
   ]
  },
  {
   "cell_type": "code",
   "execution_count": 428,
   "metadata": {},
   "outputs": [
    {
     "data": {
      "text/plain": [
       "array(['1', '9', '9', '7', '5', '7', '8', '7', '4', '7', '9', '0', '1',\n",
       "       '1', '1', '5', '5', '4', '9', '9', '7', '9', '8', '4', '8', '1',\n",
       "       '5', '9', '2', '7', '2', '9', '0', '1', '1', '1', '4', '6', '1',\n",
       "       '7', '8', '5', '0', '5', '0', '5', '7', '4', '9', '8', '6', '0',\n",
       "       '4', '5', '8', '4', '7', '4', '1', '4', '2', '6', '6', '8', '0',\n",
       "       '6', '2', '4', '7', '3', '0', '4', '3', '8', '3', '1', '5', '7',\n",
       "       '2', '2', '8', '7', '7', '1', '3', '9', '3', '2', '0', '1', '6',\n",
       "       '1', '3', '1', '0', '0', '9', '7', '5', '9'], dtype='<U2')"
      ]
     },
     "execution_count": 428,
     "metadata": {},
     "output_type": "execute_result"
    }
   ],
   "source": [
    "np.asarray(list(lables_dic.items()))[:,1]"
   ]
  },
  {
   "cell_type": "code",
   "execution_count": 467,
   "metadata": {},
   "outputs": [
    {
     "data": {
      "text/plain": [
       "(15, 32, 32, 3)"
      ]
     },
     "execution_count": 467,
     "metadata": {},
     "output_type": "execute_result"
    }
   ],
   "source": [
    "batch_chosen = random.randint(0,no_of_batches-1)\n",
    "\n",
    "list_of_batches[batch_chosen,:,:,:,:].shape"
   ]
  },
  {
   "cell_type": "code",
   "execution_count": 292,
   "metadata": {},
   "outputs": [
    {
     "ename": "SyntaxError",
     "evalue": "unexpected EOF while parsing (<string>, line 1)",
     "output_type": "error",
     "traceback": [
      "Traceback \u001b[1;36m(most recent call last)\u001b[0m:\n",
      "  File \u001b[0;32m\"C:\\ProgramData\\Anaconda3\\lib\\site-packages\\IPython\\core\\interactiveshell.py\"\u001b[0m, line \u001b[0;32m3326\u001b[0m, in \u001b[0;35mrun_code\u001b[0m\n    exec(code_obj, self.user_global_ns, self.user_ns)\n",
      "\u001b[1;36m  File \u001b[1;32m\"<ipython-input-292-a6b5a2aa30ab>\"\u001b[1;36m, line \u001b[1;32m1\u001b[1;36m, in \u001b[1;35m<module>\u001b[1;36m\u001b[0m\n\u001b[1;33m    eval(file_path + '/12.npy')\u001b[0m\n",
      "\u001b[1;36m  File \u001b[1;32m\"<string>\"\u001b[1;36m, line \u001b[1;32m1\u001b[0m\n\u001b[1;33m    src_to_implement/exercise_data/12.npy\u001b[0m\n\u001b[1;37m                                        ^\u001b[0m\n\u001b[1;31mSyntaxError\u001b[0m\u001b[1;31m:\u001b[0m unexpected EOF while parsing\n"
     ]
    }
   ],
   "source": [
    "eval(src_to_implement/exercise_data + '/12.npy')"
   ]
  },
  {
   "cell_type": "code",
   "execution_count": 293,
   "metadata": {},
   "outputs": [
    {
     "data": {
      "text/plain": [
       "'src_to_implement/exercise_data'"
      ]
     },
     "execution_count": 293,
     "metadata": {},
     "output_type": "execute_result"
    }
   ],
   "source": [
    "file_path"
   ]
  },
  {
   "cell_type": "code",
   "execution_count": 302,
   "metadata": {},
   "outputs": [
    {
     "name": "stdout",
     "output_type": "stream",
     "text": [
      "src_to_implement/exercise_data\\12.npy\n"
     ]
    }
   ],
   "source": [
    "import os \n",
    "print(os.path.join(file_path, \"12.npy\"))"
   ]
  },
  {
   "cell_type": "code",
   "execution_count": 304,
   "metadata": {},
   "outputs": [
    {
     "data": {
      "text/plain": [
       "'src_to_implement/exercise_data\\\\12.npy'"
      ]
     },
     "execution_count": 304,
     "metadata": {},
     "output_type": "execute_result"
    }
   ],
   "source": [
    "os.path.join(file_path, '12.npy')"
   ]
  },
  {
   "cell_type": "code",
   "execution_count": null,
   "metadata": {},
   "outputs": [],
   "source": [
    "\n",
    "eval('plt.imshow(np.load(os.path.join(file_path, + 12.npy))))"
   ]
  },
  {
   "cell_type": "code",
   "execution_count": 313,
   "metadata": {},
   "outputs": [
    {
     "data": {
      "text/plain": [
       "'src_to_implement/exercise_data'"
      ]
     },
     "execution_count": 313,
     "metadata": {},
     "output_type": "execute_result"
    }
   ],
   "source": [
    "#os.listdir(file_path)\n",
    "file_path"
   ]
  },
  {
   "cell_type": "code",
   "execution_count": 337,
   "metadata": {},
   "outputs": [
    {
     "data": {
      "text/plain": [
       "(32, 32, 3)"
      ]
     },
     "execution_count": 337,
     "metadata": {},
     "output_type": "execute_result"
    }
   ],
   "source": [
    "\n",
    "img = np.load(file_path+'/'+list(dic.keys())[0]+'.npy')\n",
    "np.resize(img,(image_size[0],image_size[1], image_size[2]))\n",
    "dataset[i,:,:,:] = img"
   ]
  },
  {
   "cell_type": "code",
   "execution_count": 338,
   "metadata": {},
   "outputs": [
    {
     "data": {
      "text/plain": [
       "(32, 32, 3)"
      ]
     },
     "execution_count": 338,
     "metadata": {},
     "output_type": "execute_result"
    }
   ],
   "source": [
    "np.resize(img,(image_size[0],image_size[1], image_size[2]))\n",
    "img.shape\n"
   ]
  },
  {
   "cell_type": "code",
   "execution_count": 327,
   "metadata": {},
   "outputs": [
    {
     "data": {
      "text/plain": [
       "32"
      ]
     },
     "execution_count": 327,
     "metadata": {},
     "output_type": "execute_result"
    }
   ],
   "source": [
    "image_size[0]"
   ]
  },
  {
   "cell_type": "code",
   "execution_count": 320,
   "metadata": {},
   "outputs": [
    {
     "data": {
      "text/plain": [
       "'abcabb'"
      ]
     },
     "execution_count": 320,
     "metadata": {},
     "output_type": "execute_result"
    }
   ],
   "source": [
    "'abc'+'abb'"
   ]
  },
  {
   "cell_type": "code",
   "execution_count": 321,
   "metadata": {},
   "outputs": [
    {
     "data": {
      "text/plain": [
       "'src_to_implement/exercise_data/45.npy'"
      ]
     },
     "execution_count": 321,
     "metadata": {},
     "output_type": "execute_result"
    }
   ],
   "source": [
    "file_path+'/'+list(dic.keys())[0]+'.npy'"
   ]
  },
  {
   "cell_type": "code",
   "execution_count": 355,
   "metadata": {},
   "outputs": [],
   "source": [
    "dataset = np.zeros((dataset_length, image_size[0],image_size[1],image_size[2]), dtype='uint8')"
   ]
  },
  {
   "cell_type": "code",
   "execution_count": 356,
   "metadata": {},
   "outputs": [],
   "source": []
  },
  {
   "cell_type": "code",
   "execution_count": 358,
   "metadata": {},
   "outputs": [
    {
     "data": {
      "text/plain": [
       "<matplotlib.image.AxesImage at 0x1603e67dcc8>"
      ]
     },
     "execution_count": 358,
     "metadata": {},
     "output_type": "execute_result"
    },
    {
     "data": {
      "image/png": "[encoded data removed]",
      "text/plain": [
       "<Figure size 432x288 with 1 Axes>"
      ]
     },
     "metadata": {
      "needs_background": "light"
     },
     "output_type": "display_data"
    }
   ],
   "source": [
    "plt.imshow(dataset[0,:,:,:])"
   ]
  },
  {
   "cell_type": "code",
   "execution_count": 360,
   "metadata": {},
   "outputs": [
    {
     "data": {
      "text/plain": [
       "{'45': 1,\n",
       " '24': 9,\n",
       " '15': 9,\n",
       " '23': 7,\n",
       " '9': 5,\n",
       " '40': 7,\n",
       " '94': 8,\n",
       " '59': 7,\n",
       " '48': 4,\n",
       " '1': 7,\n",
       " '80': 9,\n",
       " '77': 0,\n",
       " '2': 1,\n",
       " '28': 1,\n",
       " '87': 1,\n",
       " '44': 5,\n",
       " '84': 5,\n",
       " '35': 4,\n",
       " '21': 9,\n",
       " '27': 9,\n",
       " '66': 7,\n",
       " '8': 9,\n",
       " '19': 8,\n",
       " '36': 4,\n",
       " '56': 8,\n",
       " '58': 1,\n",
       " '76': 5,\n",
       " '60': 9,\n",
       " '85': 2,\n",
       " '54': 7,\n",
       " '30': 2,\n",
       " '7': 9,\n",
       " '38': 0,\n",
       " '98': 1,\n",
       " '25': 1,\n",
       " '82': 1,\n",
       " '95': 4,\n",
       " '62': 6,\n",
       " '99': 1,\n",
       " '17': 7,\n",
       " '31': 8,\n",
       " '57': 5,\n",
       " '72': 0,\n",
       " '53': 5,\n",
       " '69': 0,\n",
       " '63': 5,\n",
       " '18': 7,\n",
       " '88': 4,\n",
       " '67': 9,\n",
       " '55': 8,\n",
       " '74': 6,\n",
       " '12': 0,\n",
       " '71': 4,\n",
       " '81': 5,\n",
       " '13': 8,\n",
       " '83': 4,\n",
       " '5': 7,\n",
       " '47': 4,\n",
       " '22': 1,\n",
       " '51': 4,\n",
       " '96': 2,\n",
       " '49': 6,\n",
       " '14': 6,\n",
       " '79': 8,\n",
       " '61': 0,\n",
       " '78': 6,\n",
       " '39': 2,\n",
       " '0': 4,\n",
       " '34': 7,\n",
       " '90': 3,\n",
       " '68': 0,\n",
       " '4': 4,\n",
       " '10': 3,\n",
       " '70': 8,\n",
       " '93': 3,\n",
       " '89': 1,\n",
       " '6': 5,\n",
       " '75': 7,\n",
       " '32': 2,\n",
       " '29': 2,\n",
       " '33': 8,\n",
       " '52': 7,\n",
       " '91': 7,\n",
       " '46': 1,\n",
       " '20': 3,\n",
       " '42': 9,\n",
       " '50': 3,\n",
       " '37': 2,\n",
       " '97': 0,\n",
       " '64': 1,\n",
       " '73': 6,\n",
       " '43': 1,\n",
       " '26': 3,\n",
       " '65': 1,\n",
       " '3': 0,\n",
       " '16': 0,\n",
       " '11': 9,\n",
       " '86': 7,\n",
       " '92': 5,\n",
       " '41': 9}"
      ]
     },
     "execution_count": 360,
     "metadata": {},
     "output_type": "execute_result"
    }
   ],
   "source": [
    "dic"
   ]
  },
  {
   "cell_type": "code",
   "execution_count": 362,
   "metadata": {},
   "outputs": [
    {
     "data": {
      "text/plain": [
       "['45',\n",
       " '24',\n",
       " '15',\n",
       " '23',\n",
       " '9',\n",
       " '40',\n",
       " '94',\n",
       " '59',\n",
       " '48',\n",
       " '1',\n",
       " '80',\n",
       " '77',\n",
       " '2',\n",
       " '28',\n",
       " '87',\n",
       " '44',\n",
       " '84',\n",
       " '35',\n",
       " '21',\n",
       " '27',\n",
       " '66',\n",
       " '8',\n",
       " '19',\n",
       " '36',\n",
       " '56',\n",
       " '58',\n",
       " '76',\n",
       " '60',\n",
       " '85',\n",
       " '54',\n",
       " '30',\n",
       " '7',\n",
       " '38',\n",
       " '98',\n",
       " '25',\n",
       " '82',\n",
       " '95',\n",
       " '62',\n",
       " '99',\n",
       " '17',\n",
       " '31',\n",
       " '57',\n",
       " '72',\n",
       " '53',\n",
       " '69',\n",
       " '63',\n",
       " '18',\n",
       " '88',\n",
       " '67',\n",
       " '55',\n",
       " '74',\n",
       " '12',\n",
       " '71',\n",
       " '81',\n",
       " '13',\n",
       " '83',\n",
       " '5',\n",
       " '47',\n",
       " '22',\n",
       " '51',\n",
       " '96',\n",
       " '49',\n",
       " '14',\n",
       " '79',\n",
       " '61',\n",
       " '78',\n",
       " '39',\n",
       " '0',\n",
       " '34',\n",
       " '90',\n",
       " '68',\n",
       " '4',\n",
       " '10',\n",
       " '70',\n",
       " '93',\n",
       " '89',\n",
       " '6',\n",
       " '75',\n",
       " '32',\n",
       " '29',\n",
       " '33',\n",
       " '52',\n",
       " '91',\n",
       " '46',\n",
       " '20',\n",
       " '42',\n",
       " '50',\n",
       " '37',\n",
       " '97',\n",
       " '64',\n",
       " '73',\n",
       " '43',\n",
       " '26',\n",
       " '65',\n",
       " '3',\n",
       " '16',\n",
       " '11',\n",
       " '86',\n",
       " '92',\n",
       " '41']"
      ]
     },
     "execution_count": 362,
     "metadata": {},
     "output_type": "execute_result"
    }
   ],
   "source": [
    "list(dic.keys())"
   ]
  },
  {
   "cell_type": "code",
   "execution_count": 372,
   "metadata": {},
   "outputs": [],
   "source": [
    "d = list(dic.items())"
   ]
  },
  {
   "cell_type": "code",
   "execution_count": 373,
   "metadata": {},
   "outputs": [],
   "source": [
    "\n",
    "d = list(dic.items())\n",
    "random.shuffle (d)"
   ]
  },
  {
   "cell_type": "code",
   "execution_count": 375,
   "metadata": {},
   "outputs": [
    {
     "data": {
      "text/plain": [
       "{'49': 6,\n",
       " '16': 0,\n",
       " '57': 5,\n",
       " '35': 4,\n",
       " '14': 6,\n",
       " '7': 9,\n",
       " '66': 7,\n",
       " '12': 0,\n",
       " '6': 5,\n",
       " '83': 4,\n",
       " '60': 9,\n",
       " '17': 7,\n",
       " '64': 1,\n",
       " '73': 6,\n",
       " '95': 4,\n",
       " '52': 7,\n",
       " '37': 2,\n",
       " '36': 4,\n",
       " '0': 4,\n",
       " '31': 8,\n",
       " '62': 6,\n",
       " '47': 4,\n",
       " '48': 4,\n",
       " '55': 8,\n",
       " '96': 2,\n",
       " '51': 4,\n",
       " '43': 1,\n",
       " '85': 2,\n",
       " '44': 5,\n",
       " '42': 9,\n",
       " '98': 1,\n",
       " '1': 7,\n",
       " '67': 9,\n",
       " '19': 8,\n",
       " '76': 5,\n",
       " '87': 1,\n",
       " '71': 4,\n",
       " '28': 1,\n",
       " '70': 8,\n",
       " '92': 5,\n",
       " '97': 0,\n",
       " '68': 0,\n",
       " '94': 8,\n",
       " '74': 6,\n",
       " '69': 0,\n",
       " '78': 6,\n",
       " '40': 7,\n",
       " '22': 1,\n",
       " '9': 5,\n",
       " '54': 7,\n",
       " '59': 7,\n",
       " '2': 1,\n",
       " '4': 4,\n",
       " '53': 5,\n",
       " '91': 7,\n",
       " '32': 2,\n",
       " '81': 5,\n",
       " '25': 1,\n",
       " '11': 9,\n",
       " '18': 7,\n",
       " '8': 9,\n",
       " '79': 8,\n",
       " '38': 0,\n",
       " '84': 5,\n",
       " '61': 0,\n",
       " '13': 8,\n",
       " '99': 1,\n",
       " '30': 2,\n",
       " '86': 7,\n",
       " '27': 9,\n",
       " '89': 1,\n",
       " '34': 7,\n",
       " '21': 9,\n",
       " '33': 8,\n",
       " '23': 7,\n",
       " '26': 3,\n",
       " '46': 1,\n",
       " '80': 9,\n",
       " '75': 7,\n",
       " '77': 0,\n",
       " '90': 3,\n",
       " '39': 2,\n",
       " '72': 0,\n",
       " '20': 3,\n",
       " '15': 9,\n",
       " '63': 5,\n",
       " '58': 1,\n",
       " '41': 9,\n",
       " '56': 8,\n",
       " '29': 2,\n",
       " '45': 1,\n",
       " '10': 3,\n",
       " '88': 4,\n",
       " '3': 0,\n",
       " '50': 3,\n",
       " '24': 9,\n",
       " '93': 3,\n",
       " '5': 7,\n",
       " '65': 1,\n",
       " '82': 1}"
      ]
     },
     "execution_count": 375,
     "metadata": {},
     "output_type": "execute_result"
    }
   ],
   "source": [
    "d = list(dic.items())\n",
    "random.shuffle (d)\n",
    "dict(d)"
   ]
  },
  {
   "cell_type": "code",
   "execution_count": null,
   "metadata": {},
   "outputs": [],
   "source": []
  }
 ],
 "metadata": {
  "kernelspec": {
   "display_name": "Python 3",
   "language": "python",
   "name": "python3"
  },
  "language_info": {
   "codemirror_mode": {
    "name": "ipython",
    "version": 3
   },
   "file_extension": ".py",
   "mimetype": "text/x-python",
   "name": "python",
   "nbconvert_exporter": "python",
   "pygments_lexer": "ipython3",
   "version": "3.7.4"
  }
 },
 "nbformat": 4,
 "nbformat_minor": 2
}
