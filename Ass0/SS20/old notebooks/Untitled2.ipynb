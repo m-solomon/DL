{
 "cells": [
  {
   "cell_type": "code",
   "execution_count": 3,
   "metadata": {},
   "outputs": [],
   "source": [
    "import pandas as pd\n",
    "import numpy as np\n",
    "import matplotlib.pyplot as plt\n",
    "from scipy import signal\n",
    "from PyAstronomy import pyasl\n",
    "from sklearn.metrics import mean_squared_error\n"
   ]
  },
  {
   "cell_type": "code",
   "execution_count": 59,
   "metadata": {},
   "outputs": [],
   "source": [
    "def smooth(x,window_len,window, sig=0.6776647007914199, p=0.5):\n",
    "    \"\"\"smooth the data using a window with requested size.\n",
    "    \n",
    "    This method is based on the convolution of a scaled window with the signal.\n",
    "    The signal is prepared by introducing reflected copies of the signal \n",
    "    (with the window size) in both ends so that transient parts are minimized\n",
    "    in the begining and end part of the output signal.\n",
    "    \n",
    "    input:\n",
    "        x: the input signal \n",
    "        window_len: the dimension of the smoothing window; should be an odd integer\n",
    "        window: the type of window from 'flat', 'hanning', 'hamming', 'bartlett', 'blackman'\n",
    "            flat window will produce a moving average smoothing.\n",
    "\n",
    "    output:\n",
    "        the smoothed signal\n",
    "        \n",
    "    example:\n",
    "\n",
    "    t=linspace(-2,2,0.1)\n",
    "    x=sin(t)+randn(len(t))*0.1\n",
    "    y=smooth(x)\n",
    "    \n",
    "    see also: \n",
    "    \n",
    "    np.hanning, np.hamming, np.bartlett, np.blackman, np.convolve\n",
    "    scipy.signal.lfilter\n",
    " \n",
    "    TODO: the window parameter could be the window itself if an array instead of a string\n",
    "    NOTE: length(output) != length(input), to correct this: return y[(window_len/2-1):-(window_len/2)] instead of just y.\n",
    "    \"\"\"\n",
    "\n",
    "    if x.ndim != 1:\n",
    "        raise ValueError('smooth only accepts 1 dimension arrays.')\n",
    "\n",
    "    if x.size < window_len:\n",
    "        raise ValueError('Input vector needs to be bigger than window size.')\n",
    "\n",
    "\n",
    "    if window_len<3:\n",
    "        return x\n",
    "\n",
    "\n",
    "    if not window in ['flat', 'hanning', 'hamming', 'bartlett', 'blackman', 'bohman', 'flattop', 'gaussian', 'general_gaussian']:\n",
    "        raise ValueError(\"Window is on of 'flat', 'hanning', 'hamming', 'bartlett', 'blackman', 'bohman', 'flattop', 'gaussian', 'general_gaussian'\")\n",
    "\n",
    "\n",
    "    s=np.r_[x[window_len-1:0:-1],x,x[-2:-window_len-1:-1]]\n",
    "    #print(len(s))\n",
    "    if window == 'flat': #moving average\n",
    "        w=np.ones(window_len,'d')\n",
    "    elif window == 'bohman' or window == 'flattop':\n",
    "        w=eval('signal.'+window+'(window_len)')   \n",
    "    elif window == 'gaussian':\n",
    "        w=eval('signal.'+window+'(window_len, sig)')   \n",
    "    elif window == 'general_gaussian':\n",
    "        w=eval('signal.'+window+'(window_len, p, sig)')   \n",
    "    else:\n",
    "        w=eval('np.'+window+'(window_len)')\n",
    "\n",
    "    y=np.convolve(w/w.sum(),s,mode='valid')\n",
    "    return y"
   ]
  },
  {
   "cell_type": "code",
   "execution_count": 64,
   "metadata": {},
   "outputs": [],
   "source": [
    "t=np.linspace(-4,4,200)\n",
    "xn=np.sin(t)+np.random.randn(len(t))*0.1\n",
    "y=smooth(xn,11,'general_gaussian')\n",
    "\n",
    "wt = ['flat', 'hanning', 'hamming', 'bartlett', 'blackman', 'bohman', 'flattop', 'gaussian', 'general_gaussian']\n",
    "wl = np.around(np.arange(11, 211, 10), decimals=0)\n",
    "(number_of_windows, ) = wl.shape\n",
    "(number_of_files, ) = df.iloc[:, 1].shape\n",
    "\n",
    "smoothed_flat = [[0 for x in range(number_of_windows)] for y in range(number_of_files)]\n",
    "smoothed_hanning = smoothed_flat\n",
    "smoothed_hamming = smoothed_flat\n",
    "smoothed_bartlett = smoothed_flat\n",
    "smoothed_blackman = smoothed_flat\n",
    "smoothed_bohman = smoothed_flat\n",
    "smoothed_flattop = smoothed_flat\n",
    "smoothed_gaussian = smoothed_flat\n",
    "smoothed_general_gaussian = smoothed_flat\n",
    "\n",
    "for i in range(number_of_windows):\n",
    "    smoothed_flat[i] = smooth(df.iloc[:, 1],wl[i],wt[0])[wl[i]//2 :(number_of_files + wl[i]//2)]\n",
    "    smoothed_hanning[i] = smooth(df.iloc[:, 1],wl[i],wt[1])[wl[i]//2 :(number_of_files + wl[i]//2)]\n",
    "    smoothed_hamming[i] = smooth(df.iloc[:, 1],wl[i],wt[2])[wl[i]//2 :(number_of_files + wl[i]//2)]\n",
    "    smoothed_bartlett[i] = smooth(df.iloc[:, 1],wl[i],wt[3])[wl[i]//2 :(number_of_files + wl[i]//2)]\n",
    "    smoothed_blackman[i] = smooth(df.iloc[:, 1],wl[i],wt[4])[wl[i]//2 :(number_of_files + wl[i]//2)]\n",
    "    smoothed_bohman[i] = smooth(df.iloc[:, 1],wl[i],wt[5])[wl[i]//2 :(number_of_files + wl[i]//2)]\n",
    "    smoothed_flattop[i] = smooth(df.iloc[:, 1],wl[i],wt[6])[wl[i]//2 :(number_of_files + wl[i]//2)]\n",
    "    smoothed_gaussian[i] = smooth(df.iloc[:, 1],wl[i],wt[7], sig=np.std(df.iloc[:, 1]))[wl[i]//2 :(number_of_files + wl[i]//2)]\n",
    "    smoothed_general_gaussian[] = smooth(df.iloc[:, 1],wl[i],wt[8], sig=np.std(df.iloc[:, 1]), p=0.5)[wl[i]//2 :(number_of_files + wl[i]//2)]\n",
    "\n",
    "smoothed_flat = np.asarray(smoothed_flat).T\n",
    "smoothed_hanning = np.asarray(smoothed_hanning).T\n",
    "smoothed_hamming = np.asarray(smoothed_hamming).T\n",
    "smoothed_bartlett = np.asarray(smoothed_bartlett).T\n",
    "smoothed_blackman = np.asarray(smoothed_blackman).T\n",
    "smoothed_bohman = np.asarray(smoothed_bohman).T\n",
    "smoothed_flattop = np.asarray(smoothed_flattop).T\n",
    "smoothed_gaussian = np.asarray(smoothed_gaussian).T\n",
    "smoothed_general_gaussian = np.asarray(smoothed_general_gaussian).T"
   ]
  },
  {
   "cell_type": "code",
   "execution_count": 65,
   "metadata": {},
   "outputs": [
    {
     "data": {
      "text/plain": [
       "(200,)"
      ]
     },
     "execution_count": 65,
     "metadata": {},
     "output_type": "execute_result"
    }
   ],
   "source": [
    "xn.shape"
   ]
  },
  {
   "cell_type": "code",
   "execution_count": 66,
   "metadata": {},
   "outputs": [
    {
     "data": {
      "text/plain": [
       "(210,)"
      ]
     },
     "execution_count": 66,
     "metadata": {},
     "output_type": "execute_result"
    }
   ],
   "source": [
    "y.shape"
   ]
  },
  {
   "cell_type": "code",
   "execution_count": 67,
   "metadata": {},
   "outputs": [
    {
     "data": {
      "text/plain": [
       "[<matplotlib.lines.Line2D at 0x1d43aad20f0>]"
      ]
     },
     "execution_count": 67,
     "metadata": {},
     "output_type": "execute_result"
    },
    {
     "data": {
      "image/png": "[encoded data removed]",
      "text/plain": [
       "<Figure size 432x288 with 1 Axes>"
      ]
     },
     "metadata": {
      "needs_background": "light"
     },
     "output_type": "display_data"
    }
   ],
   "source": [
    "plt.plot(xn)\n",
    "plt.plot(y[5:205])"
   ]
  },
  {
   "cell_type": "code",
   "execution_count": 72,
   "metadata": {},
   "outputs": [
    {
     "data": {
      "text/plain": [
       "0.6617920963368294"
      ]
     },
     "execution_count": 72,
     "metadata": {},
     "output_type": "execute_result"
    }
   ],
   "source": [
    "np.std(xn)\n"
   ]
  },
  {
   "cell_type": "code",
   "execution_count": 82,
   "metadata": {},
   "outputs": [],
   "source": [
    "empty = np.asarray([[0 for x in range(2)] for y in range(5)])"
   ]
  },
  {
   "cell_type": "code",
   "execution_count": 81,
   "metadata": {},
   "outputs": [
    {
     "data": {
      "text/plain": [
       "(20,)"
      ]
     },
     "execution_count": 81,
     "metadata": {},
     "output_type": "execute_result"
    }
   ],
   "source": [
    "wl = np.around(np.arange(11, 211, 10), decimals=0)\n",
    "wl.shape"
   ]
  },
  {
   "cell_type": "code",
   "execution_count": 94,
   "metadata": {},
   "outputs": [
    {
     "data": {
      "text/plain": [
       "array([0, 0, 0, 0, 0])"
      ]
     },
     "execution_count": 94,
     "metadata": {},
     "output_type": "execute_result"
    }
   ],
   "source": [
    "empty[:,0]"
   ]
  },
  {
   "cell_type": "code",
   "execution_count": null,
   "metadata": {},
   "outputs": [],
   "source": []
  }
 ],
 "metadata": {
  "kernelspec": {
   "display_name": "Python 3",
   "language": "python",
   "name": "python3"
  },
  "language_info": {
   "codemirror_mode": {
    "name": "ipython",
    "version": 3
   },
   "file_extension": ".py",
   "mimetype": "text/x-python",
   "name": "python",
   "nbconvert_exporter": "python",
   "pygments_lexer": "ipython3",
   "version": "3.7.1"
  }
 },
 "nbformat": 4,
 "nbformat_minor": 2
}
