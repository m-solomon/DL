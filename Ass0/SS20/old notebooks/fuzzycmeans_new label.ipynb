{
 "cells": [
  {
   "cell_type": "code",
   "execution_count": 1,
   "metadata": {},
   "outputs": [],
   "source": [
    "import matplotlib.pyplot as plt\n",
    "%matplotlib inline\n",
    "import numpy as np\n",
    "import scipy as sp\n",
    "import pandas as pd\n",
    "import seaborn as sns\n",
    "import os\n",
    "from sklearn.preprocessing import StandardScaler\n",
    "from sklearn.model_selection import train_test_split\n",
    "import umap\n",
    "import glob\n",
    "from sklearn.tree import DecisionTreeRegressor\n",
    "from sklearn.feature_selection import SelectFromModel"
   ]
  },
  {
   "cell_type": "code",
   "execution_count": 150,
   "metadata": {},
   "outputs": [
    {
     "name": "stdout",
     "output_type": "stream",
     "text": [
      "['D:\\\\Data\\\\cav_data\\\\fulldata_with_maxmin.csv']\n"
     ]
    }
   ],
   "source": [
    "path = r'D:\\Data\\cav_data' # use your path\n",
    "all_files = glob.glob(path + \"/fulldata*.csv\")\n",
    "print(all_files)\n",
    "file_list = []\n",
    "\n",
    "for filename in all_files:\n",
    "    df = pd.read_csv(filename, index_col=0)\n",
    "    file_list.append(df)\n",
    "\n",
    "total_data_df = pd.concat(file_list, axis=0, ignore_index=True)"
   ]
  },
  {
   "cell_type": "code",
   "execution_count": 151,
   "metadata": {},
   "outputs": [
    {
     "name": "stdout",
     "output_type": "stream",
     "text": [
      "(107569, 288)\n"
     ]
    },
    {
     "data": {
      "text/html": [
       "<div>\n",
       "<style scoped>\n",
       "    .dataframe tbody tr th:only-of-type {\n",
       "        vertical-align: middle;\n",
       "    }\n",
       "\n",
       "    .dataframe tbody tr th {\n",
       "        vertical-align: top;\n",
       "    }\n",
       "\n",
       "    .dataframe thead th {\n",
       "        text-align: right;\n",
       "    }\n",
       "</style>\n",
       "<table border=\"1\" class=\"dataframe\">\n",
       "  <thead>\n",
       "    <tr style=\"text-align: right;\">\n",
       "      <th></th>\n",
       "      <th>fDie1wflow_en0</th>\n",
       "      <th>fDie1wflow_en1</th>\n",
       "      <th>fDie1wflow_en2</th>\n",
       "      <th>fDie1wflow_en3</th>\n",
       "      <th>fDie1wflow_en4</th>\n",
       "      <th>fDie1wflow_mse</th>\n",
       "      <th>fDie1wflow_mae</th>\n",
       "      <th>fDie2wflow_en0</th>\n",
       "      <th>fDie2wflow_en1</th>\n",
       "      <th>fDie2wflow_en2</th>\n",
       "      <th>...</th>\n",
       "      <th>Cast_date</th>\n",
       "      <th>Shift</th>\n",
       "      <th>Shot_no</th>\n",
       "      <th>dayOfWeek</th>\n",
       "      <th>cav1_defect</th>\n",
       "      <th>cav2_defect</th>\n",
       "      <th>defect</th>\n",
       "      <th>defect_smoothed</th>\n",
       "      <th>max_ratio</th>\n",
       "      <th>min_ratio</th>\n",
       "    </tr>\n",
       "  </thead>\n",
       "  <tbody>\n",
       "    <tr>\n",
       "      <th>0</th>\n",
       "      <td>21.692999</td>\n",
       "      <td>0.759790</td>\n",
       "      <td>-0.968287</td>\n",
       "      <td>13.580341</td>\n",
       "      <td>-0.567633</td>\n",
       "      <td>0.002722</td>\n",
       "      <td>0.038137</td>\n",
       "      <td>9.908647</td>\n",
       "      <td>1.283877</td>\n",
       "      <td>-0.999141</td>\n",
       "      <td>...</td>\n",
       "      <td>2018-01-15</td>\n",
       "      <td>1</td>\n",
       "      <td>5</td>\n",
       "      <td>0</td>\n",
       "      <td>0</td>\n",
       "      <td>0</td>\n",
       "      <td>0</td>\n",
       "      <td>0.0</td>\n",
       "      <td>NaN</td>\n",
       "      <td>NaN</td>\n",
       "    </tr>\n",
       "    <tr>\n",
       "      <th>1</th>\n",
       "      <td>22.802261</td>\n",
       "      <td>1.165540</td>\n",
       "      <td>-0.969840</td>\n",
       "      <td>15.000215</td>\n",
       "      <td>-0.767543</td>\n",
       "      <td>0.002549</td>\n",
       "      <td>0.035166</td>\n",
       "      <td>9.719274</td>\n",
       "      <td>1.268317</td>\n",
       "      <td>-0.999214</td>\n",
       "      <td>...</td>\n",
       "      <td>2018-01-15</td>\n",
       "      <td>1</td>\n",
       "      <td>6</td>\n",
       "      <td>0</td>\n",
       "      <td>0</td>\n",
       "      <td>0</td>\n",
       "      <td>0</td>\n",
       "      <td>0.0</td>\n",
       "      <td>NaN</td>\n",
       "      <td>NaN</td>\n",
       "    </tr>\n",
       "    <tr>\n",
       "      <th>2</th>\n",
       "      <td>23.670288</td>\n",
       "      <td>1.490633</td>\n",
       "      <td>-0.969832</td>\n",
       "      <td>15.979490</td>\n",
       "      <td>-0.831797</td>\n",
       "      <td>0.002225</td>\n",
       "      <td>0.031885</td>\n",
       "      <td>9.586231</td>\n",
       "      <td>0.992506</td>\n",
       "      <td>-0.999257</td>\n",
       "      <td>...</td>\n",
       "      <td>2018-01-15</td>\n",
       "      <td>1</td>\n",
       "      <td>7</td>\n",
       "      <td>0</td>\n",
       "      <td>0</td>\n",
       "      <td>0</td>\n",
       "      <td>0</td>\n",
       "      <td>0.0</td>\n",
       "      <td>NaN</td>\n",
       "      <td>NaN</td>\n",
       "    </tr>\n",
       "    <tr>\n",
       "      <th>3</th>\n",
       "      <td>23.920792</td>\n",
       "      <td>2.118496</td>\n",
       "      <td>-0.968945</td>\n",
       "      <td>15.828067</td>\n",
       "      <td>-0.853646</td>\n",
       "      <td>0.001940</td>\n",
       "      <td>0.026800</td>\n",
       "      <td>9.413850</td>\n",
       "      <td>0.393041</td>\n",
       "      <td>-0.999068</td>\n",
       "      <td>...</td>\n",
       "      <td>2018-01-15</td>\n",
       "      <td>1</td>\n",
       "      <td>8</td>\n",
       "      <td>0</td>\n",
       "      <td>0</td>\n",
       "      <td>0</td>\n",
       "      <td>0</td>\n",
       "      <td>0.0</td>\n",
       "      <td>NaN</td>\n",
       "      <td>NaN</td>\n",
       "    </tr>\n",
       "    <tr>\n",
       "      <th>4</th>\n",
       "      <td>24.256344</td>\n",
       "      <td>2.081036</td>\n",
       "      <td>-0.970542</td>\n",
       "      <td>16.486008</td>\n",
       "      <td>-0.890179</td>\n",
       "      <td>0.001000</td>\n",
       "      <td>0.020291</td>\n",
       "      <td>9.127824</td>\n",
       "      <td>0.392960</td>\n",
       "      <td>-0.999210</td>\n",
       "      <td>...</td>\n",
       "      <td>2018-01-15</td>\n",
       "      <td>1</td>\n",
       "      <td>9</td>\n",
       "      <td>0</td>\n",
       "      <td>0</td>\n",
       "      <td>0</td>\n",
       "      <td>0</td>\n",
       "      <td>0.0</td>\n",
       "      <td>NaN</td>\n",
       "      <td>NaN</td>\n",
       "    </tr>\n",
       "  </tbody>\n",
       "</table>\n",
       "<p>5 rows × 288 columns</p>\n",
       "</div>"
      ],
      "text/plain": [
       "   fDie1wflow_en0  fDie1wflow_en1  fDie1wflow_en2  fDie1wflow_en3  \\\n",
       "0       21.692999        0.759790       -0.968287       13.580341   \n",
       "1       22.802261        1.165540       -0.969840       15.000215   \n",
       "2       23.670288        1.490633       -0.969832       15.979490   \n",
       "3       23.920792        2.118496       -0.968945       15.828067   \n",
       "4       24.256344        2.081036       -0.970542       16.486008   \n",
       "\n",
       "   fDie1wflow_en4  fDie1wflow_mse  fDie1wflow_mae  fDie2wflow_en0  \\\n",
       "0       -0.567633        0.002722        0.038137        9.908647   \n",
       "1       -0.767543        0.002549        0.035166        9.719274   \n",
       "2       -0.831797        0.002225        0.031885        9.586231   \n",
       "3       -0.853646        0.001940        0.026800        9.413850   \n",
       "4       -0.890179        0.001000        0.020291        9.127824   \n",
       "\n",
       "   fDie2wflow_en1  fDie2wflow_en2  ...   Cast_date  Shift  Shot_no  dayOfWeek  \\\n",
       "0        1.283877       -0.999141  ...  2018-01-15      1        5          0   \n",
       "1        1.268317       -0.999214  ...  2018-01-15      1        6          0   \n",
       "2        0.992506       -0.999257  ...  2018-01-15      1        7          0   \n",
       "3        0.393041       -0.999068  ...  2018-01-15      1        8          0   \n",
       "4        0.392960       -0.999210  ...  2018-01-15      1        9          0   \n",
       "\n",
       "   cav1_defect  cav2_defect  defect  defect_smoothed  max_ratio  min_ratio  \n",
       "0            0            0       0              0.0        NaN        NaN  \n",
       "1            0            0       0              0.0        NaN        NaN  \n",
       "2            0            0       0              0.0        NaN        NaN  \n",
       "3            0            0       0              0.0        NaN        NaN  \n",
       "4            0            0       0              0.0        NaN        NaN  \n",
       "\n",
       "[5 rows x 288 columns]"
      ]
     },
     "execution_count": 151,
     "metadata": {},
     "output_type": "execute_result"
    }
   ],
   "source": [
    "print(total_data_df.shape)\n",
    "total_data_df.head()"
   ]
  },
  {
   "cell_type": "code",
   "execution_count": 152,
   "metadata": {},
   "outputs": [],
   "source": [
    "total_data_df.head()\n",
    "deft=total_data_df['defect']\n",
    "cav1_deft=total_data_df['cav1_defect']\n",
    "cav2_deft=total_data_df['cav2_defect']\n",
    "defect_smoothed=total_data_df['defect_smoothed']\n",
    "#die4_data = total_data_df[total_data_df['Die'] == 4]\n",
    "#die4_data.head()"
   ]
  },
  {
   "cell_type": "code",
   "execution_count": 128,
   "metadata": {},
   "outputs": [],
   "source": [
    "die4_data_defect=die4_data['defect_smoothed']\n"
   ]
  },
  {
   "cell_type": "code",
   "execution_count": 153,
   "metadata": {},
   "outputs": [
    {
     "data": {
      "text/html": [
       "<div>\n",
       "<style scoped>\n",
       "    .dataframe tbody tr th:only-of-type {\n",
       "        vertical-align: middle;\n",
       "    }\n",
       "\n",
       "    .dataframe tbody tr th {\n",
       "        vertical-align: top;\n",
       "    }\n",
       "\n",
       "    .dataframe thead th {\n",
       "        text-align: right;\n",
       "    }\n",
       "</style>\n",
       "<table border=\"1\" class=\"dataframe\">\n",
       "  <thead>\n",
       "    <tr style=\"text-align: right;\">\n",
       "      <th></th>\n",
       "      <th>fDie1wflow_en0</th>\n",
       "      <th>fDie1wflow_en1</th>\n",
       "      <th>fDie1wflow_en2</th>\n",
       "      <th>fDie1wflow_en3</th>\n",
       "      <th>fDie1wflow_en4</th>\n",
       "      <th>fDie1wflow_mse</th>\n",
       "      <th>fDie1wflow_mae</th>\n",
       "      <th>fDie2wflow_en0</th>\n",
       "      <th>fDie2wflow_en1</th>\n",
       "      <th>fDie2wflow_en2</th>\n",
       "      <th>...</th>\n",
       "      <th>Cast_date</th>\n",
       "      <th>Shift</th>\n",
       "      <th>Shot_no</th>\n",
       "      <th>dayOfWeek</th>\n",
       "      <th>cav1_defect</th>\n",
       "      <th>cav2_defect</th>\n",
       "      <th>defect</th>\n",
       "      <th>defect_smoothed</th>\n",
       "      <th>max_ratio</th>\n",
       "      <th>min_ratio</th>\n",
       "    </tr>\n",
       "  </thead>\n",
       "  <tbody>\n",
       "    <tr>\n",
       "      <th>0</th>\n",
       "      <td>21.692999</td>\n",
       "      <td>0.759790</td>\n",
       "      <td>-0.968287</td>\n",
       "      <td>13.580341</td>\n",
       "      <td>-0.567633</td>\n",
       "      <td>0.002722</td>\n",
       "      <td>0.038137</td>\n",
       "      <td>9.908647</td>\n",
       "      <td>1.283877</td>\n",
       "      <td>-0.999141</td>\n",
       "      <td>...</td>\n",
       "      <td>2018-01-15</td>\n",
       "      <td>1</td>\n",
       "      <td>5</td>\n",
       "      <td>0</td>\n",
       "      <td>0</td>\n",
       "      <td>0</td>\n",
       "      <td>0</td>\n",
       "      <td>0.0</td>\n",
       "      <td>NaN</td>\n",
       "      <td>NaN</td>\n",
       "    </tr>\n",
       "    <tr>\n",
       "      <th>1</th>\n",
       "      <td>22.802261</td>\n",
       "      <td>1.165540</td>\n",
       "      <td>-0.969840</td>\n",
       "      <td>15.000215</td>\n",
       "      <td>-0.767543</td>\n",
       "      <td>0.002549</td>\n",
       "      <td>0.035166</td>\n",
       "      <td>9.719274</td>\n",
       "      <td>1.268317</td>\n",
       "      <td>-0.999214</td>\n",
       "      <td>...</td>\n",
       "      <td>2018-01-15</td>\n",
       "      <td>1</td>\n",
       "      <td>6</td>\n",
       "      <td>0</td>\n",
       "      <td>0</td>\n",
       "      <td>0</td>\n",
       "      <td>0</td>\n",
       "      <td>0.0</td>\n",
       "      <td>NaN</td>\n",
       "      <td>NaN</td>\n",
       "    </tr>\n",
       "    <tr>\n",
       "      <th>2</th>\n",
       "      <td>23.670288</td>\n",
       "      <td>1.490633</td>\n",
       "      <td>-0.969832</td>\n",
       "      <td>15.979490</td>\n",
       "      <td>-0.831797</td>\n",
       "      <td>0.002225</td>\n",
       "      <td>0.031885</td>\n",
       "      <td>9.586231</td>\n",
       "      <td>0.992506</td>\n",
       "      <td>-0.999257</td>\n",
       "      <td>...</td>\n",
       "      <td>2018-01-15</td>\n",
       "      <td>1</td>\n",
       "      <td>7</td>\n",
       "      <td>0</td>\n",
       "      <td>0</td>\n",
       "      <td>0</td>\n",
       "      <td>0</td>\n",
       "      <td>0.0</td>\n",
       "      <td>NaN</td>\n",
       "      <td>NaN</td>\n",
       "    </tr>\n",
       "    <tr>\n",
       "      <th>3</th>\n",
       "      <td>23.920792</td>\n",
       "      <td>2.118496</td>\n",
       "      <td>-0.968945</td>\n",
       "      <td>15.828067</td>\n",
       "      <td>-0.853646</td>\n",
       "      <td>0.001940</td>\n",
       "      <td>0.026800</td>\n",
       "      <td>9.413850</td>\n",
       "      <td>0.393041</td>\n",
       "      <td>-0.999068</td>\n",
       "      <td>...</td>\n",
       "      <td>2018-01-15</td>\n",
       "      <td>1</td>\n",
       "      <td>8</td>\n",
       "      <td>0</td>\n",
       "      <td>0</td>\n",
       "      <td>0</td>\n",
       "      <td>0</td>\n",
       "      <td>0.0</td>\n",
       "      <td>NaN</td>\n",
       "      <td>NaN</td>\n",
       "    </tr>\n",
       "    <tr>\n",
       "      <th>4</th>\n",
       "      <td>24.256344</td>\n",
       "      <td>2.081036</td>\n",
       "      <td>-0.970542</td>\n",
       "      <td>16.486008</td>\n",
       "      <td>-0.890179</td>\n",
       "      <td>0.001000</td>\n",
       "      <td>0.020291</td>\n",
       "      <td>9.127824</td>\n",
       "      <td>0.392960</td>\n",
       "      <td>-0.999210</td>\n",
       "      <td>...</td>\n",
       "      <td>2018-01-15</td>\n",
       "      <td>1</td>\n",
       "      <td>9</td>\n",
       "      <td>0</td>\n",
       "      <td>0</td>\n",
       "      <td>0</td>\n",
       "      <td>0</td>\n",
       "      <td>0.0</td>\n",
       "      <td>NaN</td>\n",
       "      <td>NaN</td>\n",
       "    </tr>\n",
       "  </tbody>\n",
       "</table>\n",
       "<p>5 rows × 288 columns</p>\n",
       "</div>"
      ],
      "text/plain": [
       "   fDie1wflow_en0  fDie1wflow_en1  fDie1wflow_en2  fDie1wflow_en3  \\\n",
       "0       21.692999        0.759790       -0.968287       13.580341   \n",
       "1       22.802261        1.165540       -0.969840       15.000215   \n",
       "2       23.670288        1.490633       -0.969832       15.979490   \n",
       "3       23.920792        2.118496       -0.968945       15.828067   \n",
       "4       24.256344        2.081036       -0.970542       16.486008   \n",
       "\n",
       "   fDie1wflow_en4  fDie1wflow_mse  fDie1wflow_mae  fDie2wflow_en0  \\\n",
       "0       -0.567633        0.002722        0.038137        9.908647   \n",
       "1       -0.767543        0.002549        0.035166        9.719274   \n",
       "2       -0.831797        0.002225        0.031885        9.586231   \n",
       "3       -0.853646        0.001940        0.026800        9.413850   \n",
       "4       -0.890179        0.001000        0.020291        9.127824   \n",
       "\n",
       "   fDie2wflow_en1  fDie2wflow_en2  ...   Cast_date  Shift  Shot_no  dayOfWeek  \\\n",
       "0        1.283877       -0.999141  ...  2018-01-15      1        5          0   \n",
       "1        1.268317       -0.999214  ...  2018-01-15      1        6          0   \n",
       "2        0.992506       -0.999257  ...  2018-01-15      1        7          0   \n",
       "3        0.393041       -0.999068  ...  2018-01-15      1        8          0   \n",
       "4        0.392960       -0.999210  ...  2018-01-15      1        9          0   \n",
       "\n",
       "   cav1_defect  cav2_defect  defect  defect_smoothed  max_ratio  min_ratio  \n",
       "0            0            0       0              0.0        NaN        NaN  \n",
       "1            0            0       0              0.0        NaN        NaN  \n",
       "2            0            0       0              0.0        NaN        NaN  \n",
       "3            0            0       0              0.0        NaN        NaN  \n",
       "4            0            0       0              0.0        NaN        NaN  \n",
       "\n",
       "[5 rows x 288 columns]"
      ]
     },
     "execution_count": 153,
     "metadata": {},
     "output_type": "execute_result"
    }
   ],
   "source": [
    "total_data_df.head()\n",
    "#die2_data.shape\n",
    "#die3_data.to_csv(r'D:\\Data\\merged_data\\die3_data.csv')"
   ]
  },
  {
   "cell_type": "code",
   "execution_count": 154,
   "metadata": {},
   "outputs": [
    {
     "data": {
      "text/plain": [
       "(107569, 282)"
      ]
     },
     "execution_count": 154,
     "metadata": {},
     "output_type": "execute_result"
    }
   ],
   "source": [
    "total_data_df = total_data_df.drop([ 'Die', 'Cast_date','cav1_defect','cav2_defect','Part','defect'], axis=1)\n",
    "total_data_df.shape"
   ]
  },
  {
   "cell_type": "code",
   "execution_count": 155,
   "metadata": {},
   "outputs": [
    {
     "data": {
      "text/plain": [
       "(107569, 249)"
      ]
     },
     "execution_count": 155,
     "metadata": {},
     "output_type": "execute_result"
    }
   ],
   "source": [
    "total_data_df = total_data_df.drop(['fDie1wflow_mse','Shot_no','fDie2wflow_mse','mDie3wflow_mse','fDie2wflow_mae','mDie3wflow_mae','core4_mse', 'core6_mae','ep_mse', 'ep_mae','mDie2wflow_mae','dayOfWeek', 'shot_Pos1', 'shot_Inten.Time','shot_Biscuit',\n",
    "  'fDie1wflow_mae','core5_mse','mDie1wflow_mse', 'core3_mse', 'core3_mae','Shift','dayOfWeek',\n",
    "       'mDie1wflow_mae', 'core5_mae','tiebar_mse', 'tiebar_mae', 'sleevewflow_mse', 'sleevewflow_mae',  'tipwflow_mse', 'tipwflow_mae','injection_mse', 'injection_mae','lub_mse', 'lub_mae'], axis=1)\n",
    "total_data_df.shape"
   ]
  },
  {
   "cell_type": "code",
   "execution_count": 105,
   "metadata": {},
   "outputs": [],
   "source": [
    "#die4_data.to_csv(r'D:\\Data\\merged_data\\die4_fulldata_minmaxdefect.csv')"
   ]
  },
  {
   "cell_type": "code",
   "execution_count": 156,
   "metadata": {},
   "outputs": [],
   "source": [
    "total_data_df.fillna(0,inplace=True)"
   ]
  },
  {
   "cell_type": "code",
   "execution_count": 96,
   "metadata": {},
   "outputs": [],
   "source": [
    "#lab=total_data_df['defect_smoothed']"
   ]
  },
  {
   "cell_type": "code",
   "execution_count": 176,
   "metadata": {},
   "outputs": [
    {
     "ename": "KeyError",
     "evalue": "\"None of [Index(['defect'], dtype='object')] are in the [columns]\"",
     "output_type": "error",
     "traceback": [
      "\u001b[1;31m---------------------------------------------------------------------------\u001b[0m",
      "\u001b[1;31mKeyError\u001b[0m                                  Traceback (most recent call last)",
      "\u001b[1;32m<ipython-input-176-f819aed14d93>\u001b[0m in \u001b[0;36m<module>\u001b[1;34m\u001b[0m\n\u001b[0;32m      1\u001b[0m \u001b[0mfeatures_df\u001b[0m \u001b[1;33m=\u001b[0m \u001b[0mtotal_data_df\u001b[0m\u001b[1;33m.\u001b[0m\u001b[0mdrop\u001b[0m\u001b[1;33m(\u001b[0m\u001b[1;33m[\u001b[0m\u001b[1;34m'defect_smoothed'\u001b[0m\u001b[1;33m,\u001b[0m\u001b[1;34m'max_ratio'\u001b[0m\u001b[1;33m,\u001b[0m\u001b[1;34m'min_ratio'\u001b[0m\u001b[1;33m]\u001b[0m\u001b[1;33m,\u001b[0m \u001b[0maxis\u001b[0m\u001b[1;33m=\u001b[0m\u001b[1;36m1\u001b[0m\u001b[1;33m)\u001b[0m\u001b[1;33m\u001b[0m\u001b[1;33m\u001b[0m\u001b[0m\n\u001b[0;32m      2\u001b[0m \u001b[1;31m#features_df_die2 = pd.get_dummies(features_df_die2)\u001b[0m\u001b[1;33m\u001b[0m\u001b[1;33m\u001b[0m\u001b[1;33m\u001b[0m\u001b[0m\n\u001b[1;32m----> 3\u001b[1;33m \u001b[0mlabels_df\u001b[0m \u001b[1;33m=\u001b[0m \u001b[0mtotal_data_df\u001b[0m\u001b[1;33m.\u001b[0m\u001b[0mloc\u001b[0m\u001b[1;33m[\u001b[0m\u001b[1;33m:\u001b[0m\u001b[1;33m,\u001b[0m \u001b[1;33m[\u001b[0m\u001b[1;34m'defect'\u001b[0m\u001b[1;33m]\u001b[0m\u001b[1;33m]\u001b[0m\u001b[1;33m\u001b[0m\u001b[1;33m\u001b[0m\u001b[0m\n\u001b[0m\u001b[0;32m      4\u001b[0m \u001b[0mfeatures_df\u001b[0m\u001b[1;33m.\u001b[0m\u001b[0mhead\u001b[0m\u001b[1;33m(\u001b[0m\u001b[1;33m)\u001b[0m\u001b[1;33m\u001b[0m\u001b[1;33m\u001b[0m\u001b[0m\n\u001b[0;32m      5\u001b[0m \u001b[0mfeatures_df\u001b[0m\u001b[1;33m.\u001b[0m\u001b[0mshape\u001b[0m\u001b[1;33m\u001b[0m\u001b[1;33m\u001b[0m\u001b[0m\n",
      "\u001b[1;32m~\\AppData\\Local\\Continuum\\anaconda3\\envs\\tf_gpu\\lib\\site-packages\\pandas\\core\\indexing.py\u001b[0m in \u001b[0;36m__getitem__\u001b[1;34m(self, key)\u001b[0m\n\u001b[0;32m   1492\u001b[0m             \u001b[1;32mexcept\u001b[0m \u001b[1;33m(\u001b[0m\u001b[0mKeyError\u001b[0m\u001b[1;33m,\u001b[0m \u001b[0mIndexError\u001b[0m\u001b[1;33m,\u001b[0m \u001b[0mAttributeError\u001b[0m\u001b[1;33m)\u001b[0m\u001b[1;33m:\u001b[0m\u001b[1;33m\u001b[0m\u001b[1;33m\u001b[0m\u001b[0m\n\u001b[0;32m   1493\u001b[0m                 \u001b[1;32mpass\u001b[0m\u001b[1;33m\u001b[0m\u001b[1;33m\u001b[0m\u001b[0m\n\u001b[1;32m-> 1494\u001b[1;33m             \u001b[1;32mreturn\u001b[0m \u001b[0mself\u001b[0m\u001b[1;33m.\u001b[0m\u001b[0m_getitem_tuple\u001b[0m\u001b[1;33m(\u001b[0m\u001b[0mkey\u001b[0m\u001b[1;33m)\u001b[0m\u001b[1;33m\u001b[0m\u001b[1;33m\u001b[0m\u001b[0m\n\u001b[0m\u001b[0;32m   1495\u001b[0m         \u001b[1;32melse\u001b[0m\u001b[1;33m:\u001b[0m\u001b[1;33m\u001b[0m\u001b[1;33m\u001b[0m\u001b[0m\n\u001b[0;32m   1496\u001b[0m             \u001b[1;31m# we by definition only have the 0th axis\u001b[0m\u001b[1;33m\u001b[0m\u001b[1;33m\u001b[0m\u001b[1;33m\u001b[0m\u001b[0m\n",
      "\u001b[1;32m~\\AppData\\Local\\Continuum\\anaconda3\\envs\\tf_gpu\\lib\\site-packages\\pandas\\core\\indexing.py\u001b[0m in \u001b[0;36m_getitem_tuple\u001b[1;34m(self, tup)\u001b[0m\n\u001b[0;32m    886\u001b[0m                 \u001b[1;32mcontinue\u001b[0m\u001b[1;33m\u001b[0m\u001b[1;33m\u001b[0m\u001b[0m\n\u001b[0;32m    887\u001b[0m \u001b[1;33m\u001b[0m\u001b[0m\n\u001b[1;32m--> 888\u001b[1;33m             \u001b[0mretval\u001b[0m \u001b[1;33m=\u001b[0m \u001b[0mgetattr\u001b[0m\u001b[1;33m(\u001b[0m\u001b[0mretval\u001b[0m\u001b[1;33m,\u001b[0m \u001b[0mself\u001b[0m\u001b[1;33m.\u001b[0m\u001b[0mname\u001b[0m\u001b[1;33m)\u001b[0m\u001b[1;33m.\u001b[0m\u001b[0m_getitem_axis\u001b[0m\u001b[1;33m(\u001b[0m\u001b[0mkey\u001b[0m\u001b[1;33m,\u001b[0m \u001b[0maxis\u001b[0m\u001b[1;33m=\u001b[0m\u001b[0mi\u001b[0m\u001b[1;33m)\u001b[0m\u001b[1;33m\u001b[0m\u001b[1;33m\u001b[0m\u001b[0m\n\u001b[0m\u001b[0;32m    889\u001b[0m \u001b[1;33m\u001b[0m\u001b[0m\n\u001b[0;32m    890\u001b[0m         \u001b[1;32mreturn\u001b[0m \u001b[0mretval\u001b[0m\u001b[1;33m\u001b[0m\u001b[1;33m\u001b[0m\u001b[0m\n",
      "\u001b[1;32m~\\AppData\\Local\\Continuum\\anaconda3\\envs\\tf_gpu\\lib\\site-packages\\pandas\\core\\indexing.py\u001b[0m in \u001b[0;36m_getitem_axis\u001b[1;34m(self, key, axis)\u001b[0m\n\u001b[0;32m   1900\u001b[0m                     \u001b[1;32mraise\u001b[0m \u001b[0mValueError\u001b[0m\u001b[1;33m(\u001b[0m\u001b[1;34m'Cannot index with multidimensional key'\u001b[0m\u001b[1;33m)\u001b[0m\u001b[1;33m\u001b[0m\u001b[1;33m\u001b[0m\u001b[0m\n\u001b[0;32m   1901\u001b[0m \u001b[1;33m\u001b[0m\u001b[0m\n\u001b[1;32m-> 1902\u001b[1;33m                 \u001b[1;32mreturn\u001b[0m \u001b[0mself\u001b[0m\u001b[1;33m.\u001b[0m\u001b[0m_getitem_iterable\u001b[0m\u001b[1;33m(\u001b[0m\u001b[0mkey\u001b[0m\u001b[1;33m,\u001b[0m \u001b[0maxis\u001b[0m\u001b[1;33m=\u001b[0m\u001b[0maxis\u001b[0m\u001b[1;33m)\u001b[0m\u001b[1;33m\u001b[0m\u001b[1;33m\u001b[0m\u001b[0m\n\u001b[0m\u001b[0;32m   1903\u001b[0m \u001b[1;33m\u001b[0m\u001b[0m\n\u001b[0;32m   1904\u001b[0m             \u001b[1;31m# nested tuple slicing\u001b[0m\u001b[1;33m\u001b[0m\u001b[1;33m\u001b[0m\u001b[1;33m\u001b[0m\u001b[0m\n",
      "\u001b[1;32m~\\AppData\\Local\\Continuum\\anaconda3\\envs\\tf_gpu\\lib\\site-packages\\pandas\\core\\indexing.py\u001b[0m in \u001b[0;36m_getitem_iterable\u001b[1;34m(self, key, axis)\u001b[0m\n\u001b[0;32m   1203\u001b[0m             \u001b[1;31m# A collection of keys\u001b[0m\u001b[1;33m\u001b[0m\u001b[1;33m\u001b[0m\u001b[1;33m\u001b[0m\u001b[0m\n\u001b[0;32m   1204\u001b[0m             keyarr, indexer = self._get_listlike_indexer(key, axis,\n\u001b[1;32m-> 1205\u001b[1;33m                                                          raise_missing=False)\n\u001b[0m\u001b[0;32m   1206\u001b[0m             return self.obj._reindex_with_indexers({axis: [keyarr, indexer]},\n\u001b[0;32m   1207\u001b[0m                                                    copy=True, allow_dups=True)\n",
      "\u001b[1;32m~\\AppData\\Local\\Continuum\\anaconda3\\envs\\tf_gpu\\lib\\site-packages\\pandas\\core\\indexing.py\u001b[0m in \u001b[0;36m_get_listlike_indexer\u001b[1;34m(self, key, axis, raise_missing)\u001b[0m\n\u001b[0;32m   1159\u001b[0m         self._validate_read_indexer(keyarr, indexer,\n\u001b[0;32m   1160\u001b[0m                                     \u001b[0mo\u001b[0m\u001b[1;33m.\u001b[0m\u001b[0m_get_axis_number\u001b[0m\u001b[1;33m(\u001b[0m\u001b[0maxis\u001b[0m\u001b[1;33m)\u001b[0m\u001b[1;33m,\u001b[0m\u001b[1;33m\u001b[0m\u001b[1;33m\u001b[0m\u001b[0m\n\u001b[1;32m-> 1161\u001b[1;33m                                     raise_missing=raise_missing)\n\u001b[0m\u001b[0;32m   1162\u001b[0m         \u001b[1;32mreturn\u001b[0m \u001b[0mkeyarr\u001b[0m\u001b[1;33m,\u001b[0m \u001b[0mindexer\u001b[0m\u001b[1;33m\u001b[0m\u001b[1;33m\u001b[0m\u001b[0m\n\u001b[0;32m   1163\u001b[0m \u001b[1;33m\u001b[0m\u001b[0m\n",
      "\u001b[1;32m~\\AppData\\Local\\Continuum\\anaconda3\\envs\\tf_gpu\\lib\\site-packages\\pandas\\core\\indexing.py\u001b[0m in \u001b[0;36m_validate_read_indexer\u001b[1;34m(self, key, indexer, axis, raise_missing)\u001b[0m\n\u001b[0;32m   1244\u001b[0m                 raise KeyError(\n\u001b[0;32m   1245\u001b[0m                     u\"None of [{key}] are in the [{axis}]\".format(\n\u001b[1;32m-> 1246\u001b[1;33m                         key=key, axis=self.obj._get_axis_name(axis)))\n\u001b[0m\u001b[0;32m   1247\u001b[0m \u001b[1;33m\u001b[0m\u001b[0m\n\u001b[0;32m   1248\u001b[0m             \u001b[1;31m# We (temporarily) allow for some missing keys with .loc, except in\u001b[0m\u001b[1;33m\u001b[0m\u001b[1;33m\u001b[0m\u001b[1;33m\u001b[0m\u001b[0m\n",
      "\u001b[1;31mKeyError\u001b[0m: \"None of [Index(['defect'], dtype='object')] are in the [columns]\""
     ]
    }
   ],
   "source": [
    "features_df = total_data_df.drop(['defect_smoothed','max_ratio','min_ratio'], axis=1)\n",
    "#features_df_die2 = pd.get_dummies(features_df_die2)\n",
    "labels_df = total_data_df.loc[:, ['defect']]\n",
    "features_df.head()\n",
    "features_df.shape\n",
    "labels_df.shape"
   ]
  },
  {
   "cell_type": "code",
   "execution_count": 160,
   "metadata": {},
   "outputs": [],
   "source": [
    "clf = DecisionTreeRegressor(random_state=100)\n",
    "clf = clf.fit(features_df,labels_df)\n",
    "dat=(clf.feature_importances_ )\n"
   ]
  },
  {
   "cell_type": "code",
   "execution_count": 162,
   "metadata": {},
   "outputs": [
    {
     "data": {
      "text/plain": [
       "(107569, 10)"
      ]
     },
     "execution_count": 162,
     "metadata": {},
     "output_type": "execute_result"
    }
   ],
   "source": [
    "model = SelectFromModel(clf, prefit=True,max_features=10)\n",
    "data_reshap = model.transform(features_df)\n",
    "data_reshap.shape "
   ]
  },
  {
   "cell_type": "code",
   "execution_count": 161,
   "metadata": {},
   "outputs": [
    {
     "data": {
      "text/plain": [
       "(array([20., 73., 75., 51., 11., 11.,  2.,  2.,  0.,  1.]),\n",
       " array([0.00099965, 0.00220005, 0.00340045, 0.00460085, 0.00580124,\n",
       "        0.00700164, 0.00820204, 0.00940243, 0.01060283, 0.01180323,\n",
       "        0.01300363]),\n",
       " <a list of 10 Patch objects>)"
      ]
     },
     "execution_count": 161,
     "metadata": {},
     "output_type": "execute_result"
    },
    {
     "data": {
      "image/png": "[encoded data removed]",
      "text/plain": [
       "<Figure size 432x288 with 1 Axes>"
      ]
     },
     "metadata": {
      "needs_background": "light"
     },
     "output_type": "display_data"
    }
   ],
   "source": [
    "dat=(clf.feature_importances_  )\n",
    "plt.hist(dat)\n",
    "#dat"
   ]
  },
  {
   "cell_type": "code",
   "execution_count": 136,
   "metadata": {},
   "outputs": [
    {
     "data": {
      "text/plain": [
       "Index(['fDie1wflow_en1', 'mDie1wflow_en0', 'tipwflow_en1', 'core6_en2',\n",
       "       'core6_en19', 'ep_en0', 'ep_en10', 'injection_en27', 'shot_Vel1',\n",
       "       'shot_Vel3'],\n",
       "      dtype='object')"
      ]
     },
     "execution_count": 136,
     "metadata": {},
     "output_type": "execute_result"
    }
   ],
   "source": [
    "feature_idx = model.get_support()\n",
    "feature_name = features_df.columns[feature_idx]\n",
    "#plt.hist(feature_name)\n",
    "feature_name"
   ]
  },
  {
   "cell_type": "code",
   "execution_count": 103,
   "metadata": {},
   "outputs": [],
   "source": [
    "from fcmeans import FCM\n",
    "from sklearn.datasets import make_blobs\n",
    "from matplotlib import pyplot as plt\n",
    "from seaborn import scatterplot as scatter"
   ]
  },
  {
   "cell_type": "code",
   "execution_count": 167,
   "metadata": {},
   "outputs": [
    {
     "name": "stdout",
     "output_type": "stream",
     "text": [
      "(107569, 10)\n"
     ]
    }
   ],
   "source": [
    "from sklearn.decomposition import PCA\n",
    "from sklearn.preprocessing import StandardScaler\n",
    "\n",
    "scaler = StandardScaler()\n",
    "scaled_features = scaler.fit_transform(data_reshap)\n",
    "print(scaled_features.shape)\n"
   ]
  },
  {
   "cell_type": "code",
   "execution_count": 214,
   "metadata": {},
   "outputs": [
    {
     "name": "stdout",
     "output_type": "stream",
     "text": [
      "Total variance explained: 0.5038458719529089\n",
      "[2.34555953 1.51911005 1.17383598]\n",
      "[0.23455377 0.15190959 0.11738251]\n",
      "[0.23455377 0.38646337 0.50384587]\n",
      "[[ 3.93969827  4.93080031 -2.6086796 ]\n",
      " [ 3.28687603  3.47500146  0.83590088]\n",
      " [ 3.24680714  3.19101437  0.75774951]\n",
      " ...\n",
      " [-0.84830138  1.22096793 -0.05269683]\n",
      " [-0.85731311  1.56553635  0.27621464]\n",
      " [-1.21784453 -0.85886826 -1.95450577]]\n"
     ]
    },
    {
     "data": {
      "image/png": "[encoded data removed]",
      "text/plain": [
       "<Figure size 432x288 with 1 Axes>"
      ]
     },
     "metadata": {
      "needs_background": "light"
     },
     "output_type": "display_data"
    }
   ],
   "source": [
    "pca = PCA(n_components=3)\n",
    "trans_features= pca.fit_transform(scaled_features)\n",
    "\n",
    "print('Total variance explained:', pca.explained_variance_ratio_.sum())\n",
    "plt.semilogy(pca.explained_variance_ratio_.cumsum())\n",
    "\n",
    "\n",
    "print (pca.explained_variance_)\n",
    "print (pca.explained_variance_ratio_)\n",
    "print (pca.explained_variance_ratio_.cumsum())\n",
    "print(trans_features)\n"
   ]
  },
  {
   "cell_type": "code",
   "execution_count": 228,
   "metadata": {},
   "outputs": [
    {
     "ename": "AttributeError",
     "evalue": "'FCM' object has no attribute 'trans_features'",
     "output_type": "error",
     "traceback": [
      "\u001b[1;31m---------------------------------------------------------------------------\u001b[0m",
      "\u001b[1;31mAttributeError\u001b[0m                            Traceback (most recent call last)",
      "\u001b[1;32m<ipython-input-228-c6140303fd15>\u001b[0m in \u001b[0;36m<module>\u001b[1;34m\u001b[0m\n\u001b[0;32m      4\u001b[0m \u001b[1;33m\u001b[0m\u001b[0m\n\u001b[0;32m      5\u001b[0m \u001b[1;31m# outputs\u001b[0m\u001b[1;33m\u001b[0m\u001b[1;33m\u001b[0m\u001b[1;33m\u001b[0m\u001b[0m\n\u001b[1;32m----> 6\u001b[1;33m \u001b[0mfcm_clus\u001b[0m\u001b[1;33m=\u001b[0m \u001b[0mfcm\u001b[0m\u001b[1;33m.\u001b[0m\u001b[0mtrans_features\u001b[0m\u001b[1;33m\u001b[0m\u001b[1;33m\u001b[0m\u001b[0m\n\u001b[0m\u001b[0;32m      7\u001b[0m \u001b[0mfcm_centers\u001b[0m \u001b[1;33m=\u001b[0m \u001b[0mfcm\u001b[0m\u001b[1;33m.\u001b[0m\u001b[0mcenters\u001b[0m\u001b[1;33m\u001b[0m\u001b[1;33m\u001b[0m\u001b[0m\n\u001b[0;32m      8\u001b[0m \u001b[0mfcm_labels\u001b[0m  \u001b[1;33m=\u001b[0m \u001b[0mfcm\u001b[0m\u001b[1;33m.\u001b[0m\u001b[0mu\u001b[0m\u001b[1;33m.\u001b[0m\u001b[0margmax\u001b[0m\u001b[1;33m(\u001b[0m\u001b[0maxis\u001b[0m\u001b[1;33m=\u001b[0m\u001b[1;36m1\u001b[0m\u001b[1;33m)\u001b[0m\u001b[1;33m\u001b[0m\u001b[1;33m\u001b[0m\u001b[0m\n",
      "\u001b[1;31mAttributeError\u001b[0m: 'FCM' object has no attribute 'trans_features'"
     ]
    }
   ],
   "source": [
    "# fit the fuzzy-c-means\n",
    "fcm = FCM(n_clusters=3)\n",
    "fcm.fit(trans_features)\n",
    "\n",
    "# outputs\n",
    "fcm_centers = fcm.centers\n",
    "fcm_labels  = fcm.u.argmax(axis=1)\n",
    "\n",
    "print((trans_features))\n",
    "#print(fcm_labels,fcm_centers)\n",
    "# plot result\n",
    "%matplotlib inline\n",
    "f, axes = plt.subplots(1, 2, figsize=(11,5))\n",
    "scatter(trans_features[:,0], trans_features[:,1], ax=axes[0])\n",
    "scatter(trans_features[:,0], trans_features[:,1], ax=axes[1], hue=fcm_labels)\n",
    "scatter(fcm_centers[:,0], fcm_centers[:,1], ax=axes[1],marker=\"s\",s=200)\n",
    "#scatter(fcm_centers[:,0], fcm_centers[:,2], ax=axes[1],marker=\"s\",s=200)\n",
    "#scatter(fcm_centers[:,1], fcm_centers[:,2], ax=axes[1],marker=\"s\",s=200)\n",
    "plt.show()\n",
    "print(fcm_centers[:,0], fcm_centers[:,1])"
   ]
  },
  {
   "cell_type": "code",
   "execution_count": 216,
   "metadata": {},
   "outputs": [
    {
     "data": {
      "image/png": "[encoded data removed]",
      "text/plain": [
       "<Figure size 792x360 with 2 Axes>"
      ]
     },
     "metadata": {
      "needs_background": "light"
     },
     "output_type": "display_data"
    }
   ],
   "source": [
    "f, axes = plt.subplots(1, 2, figsize=(11,5))\n",
    "scatter(trans_features[:,0], trans_features[:,1], ax=axes[0])\n",
    "scatter(trans_features[:,0], trans_features[:,1], ax=axes[1], hue=deft)\n",
    "scatter(fcm_centers[:,0], fcm_centers[:,1], ax=axes[1],marker=\"s\",s=200)\n",
    "plt.show()\n"
   ]
  },
  {
   "cell_type": "code",
   "execution_count": null,
   "metadata": {},
   "outputs": [],
   "source": [
    "deft=total_data_df['defect']\n",
    "cav1_deft=total_data_df['cav1_defect']\n",
    "cav2_deft=total_data_df['cav2_defect']\n",
    "defect_smoothed=total_data_df['defect_smoothed']"
   ]
  },
  {
   "cell_type": "code",
   "execution_count": 197,
   "metadata": {},
   "outputs": [],
   "source": [
    "import numpy as np\n",
    "import matplotlib.pyplot as plt\n",
    "import skfuzzy as fuzz"
   ]
  },
  {
   "cell_type": "code",
   "execution_count": 193,
   "metadata": {},
   "outputs": [
    {
     "data": {
      "text/plain": [
       "FuzzyCMeans(init=None, m=2, max_iter=1000, n_clusters=6, random_state=None,\n",
       "            tol=1e-05)"
      ]
     },
     "execution_count": 193,
     "metadata": {},
     "output_type": "execute_result"
    }
   ],
   "source": [
    "fcm=FuzzyCMeans(n_clusters=6, m=2, max_iter=1000, tol=1e-5)\n",
    "fcm.fit(die1_data_reshap)\n"
   ]
  },
  {
   "cell_type": "code",
   "execution_count": null,
   "metadata": {},
   "outputs": [],
   "source": []
  },
  {
   "cell_type": "code",
   "execution_count": 38,
   "metadata": {},
   "outputs": [
    {
     "data": {
      "text/plain": [
       "array([1, 3, 4, 2], dtype=int64)"
      ]
     },
     "execution_count": 38,
     "metadata": {},
     "output_type": "execute_result"
    }
   ],
   "source": [
    "#total_data_df['Die'].unique()"
   ]
  },
  {
   "cell_type": "code",
   "execution_count": 4,
   "metadata": {},
   "outputs": [
    {
     "data": {
      "text/html": [
       "<div>\n",
       "<style scoped>\n",
       "    .dataframe tbody tr th:only-of-type {\n",
       "        vertical-align: middle;\n",
       "    }\n",
       "\n",
       "    .dataframe tbody tr th {\n",
       "        vertical-align: top;\n",
       "    }\n",
       "\n",
       "    .dataframe thead th {\n",
       "        text-align: right;\n",
       "    }\n",
       "</style>\n",
       "<table border=\"1\" class=\"dataframe\">\n",
       "  <thead>\n",
       "    <tr style=\"text-align: right;\">\n",
       "      <th></th>\n",
       "      <th>fDie1wflow_en0</th>\n",
       "      <th>fDie1wflow_en1</th>\n",
       "      <th>fDie1wflow_en2</th>\n",
       "      <th>fDie1wflow_en3</th>\n",
       "      <th>fDie1wflow_en4</th>\n",
       "      <th>fDie1wflow_mse</th>\n",
       "      <th>fDie1wflow_mae</th>\n",
       "      <th>fDie2wflow_en0</th>\n",
       "      <th>fDie2wflow_en1</th>\n",
       "      <th>fDie2wflow_en2</th>\n",
       "      <th>...</th>\n",
       "      <th>tiebar_en13</th>\n",
       "      <th>tiebar_en14</th>\n",
       "      <th>tiebar_en15</th>\n",
       "      <th>tiebar_mse</th>\n",
       "      <th>tiebar_mae</th>\n",
       "      <th>Part</th>\n",
       "      <th>Shift</th>\n",
       "      <th>Shot_no</th>\n",
       "      <th>dayOfWeek</th>\n",
       "      <th>defect</th>\n",
       "    </tr>\n",
       "  </thead>\n",
       "  <tbody>\n",
       "    <tr>\n",
       "      <th>0</th>\n",
       "      <td>21.692999</td>\n",
       "      <td>0.759790</td>\n",
       "      <td>-0.968287</td>\n",
       "      <td>13.580341</td>\n",
       "      <td>-0.567633</td>\n",
       "      <td>0.002722</td>\n",
       "      <td>0.038137</td>\n",
       "      <td>9.908647</td>\n",
       "      <td>1.283877</td>\n",
       "      <td>-0.999141</td>\n",
       "      <td>...</td>\n",
       "      <td>-0.483169</td>\n",
       "      <td>-0.611454</td>\n",
       "      <td>-0.387602</td>\n",
       "      <td>0.002732</td>\n",
       "      <td>0.035002</td>\n",
       "      <td>B1012-278-1</td>\n",
       "      <td>1</td>\n",
       "      <td>5</td>\n",
       "      <td>0</td>\n",
       "      <td>0</td>\n",
       "    </tr>\n",
       "    <tr>\n",
       "      <th>1</th>\n",
       "      <td>22.802261</td>\n",
       "      <td>1.165540</td>\n",
       "      <td>-0.969839</td>\n",
       "      <td>15.000215</td>\n",
       "      <td>-0.767543</td>\n",
       "      <td>0.002549</td>\n",
       "      <td>0.035166</td>\n",
       "      <td>9.719274</td>\n",
       "      <td>1.268317</td>\n",
       "      <td>-0.999214</td>\n",
       "      <td>...</td>\n",
       "      <td>-0.477430</td>\n",
       "      <td>-0.606745</td>\n",
       "      <td>-0.379443</td>\n",
       "      <td>0.002792</td>\n",
       "      <td>0.035812</td>\n",
       "      <td>B1012-278-1</td>\n",
       "      <td>1</td>\n",
       "      <td>6</td>\n",
       "      <td>0</td>\n",
       "      <td>0</td>\n",
       "    </tr>\n",
       "    <tr>\n",
       "      <th>2</th>\n",
       "      <td>23.670288</td>\n",
       "      <td>1.490633</td>\n",
       "      <td>-0.969832</td>\n",
       "      <td>15.979490</td>\n",
       "      <td>-0.831797</td>\n",
       "      <td>0.002225</td>\n",
       "      <td>0.031885</td>\n",
       "      <td>9.586231</td>\n",
       "      <td>0.992506</td>\n",
       "      <td>-0.999257</td>\n",
       "      <td>...</td>\n",
       "      <td>-0.474928</td>\n",
       "      <td>-0.604088</td>\n",
       "      <td>-0.373460</td>\n",
       "      <td>0.002860</td>\n",
       "      <td>0.037235</td>\n",
       "      <td>B1012-278-1</td>\n",
       "      <td>1</td>\n",
       "      <td>7</td>\n",
       "      <td>0</td>\n",
       "      <td>0</td>\n",
       "    </tr>\n",
       "    <tr>\n",
       "      <th>3</th>\n",
       "      <td>23.920792</td>\n",
       "      <td>2.118496</td>\n",
       "      <td>-0.968945</td>\n",
       "      <td>15.828067</td>\n",
       "      <td>-0.853646</td>\n",
       "      <td>0.001940</td>\n",
       "      <td>0.026800</td>\n",
       "      <td>9.413850</td>\n",
       "      <td>0.393041</td>\n",
       "      <td>-0.999068</td>\n",
       "      <td>...</td>\n",
       "      <td>-0.462039</td>\n",
       "      <td>-0.586925</td>\n",
       "      <td>-0.352818</td>\n",
       "      <td>0.002696</td>\n",
       "      <td>0.037237</td>\n",
       "      <td>B1012-278-1</td>\n",
       "      <td>1</td>\n",
       "      <td>8</td>\n",
       "      <td>0</td>\n",
       "      <td>0</td>\n",
       "    </tr>\n",
       "    <tr>\n",
       "      <th>4</th>\n",
       "      <td>24.256344</td>\n",
       "      <td>2.081036</td>\n",
       "      <td>-0.970541</td>\n",
       "      <td>16.486008</td>\n",
       "      <td>-0.890179</td>\n",
       "      <td>0.001000</td>\n",
       "      <td>0.020291</td>\n",
       "      <td>9.127824</td>\n",
       "      <td>0.392960</td>\n",
       "      <td>-0.999210</td>\n",
       "      <td>...</td>\n",
       "      <td>-0.443705</td>\n",
       "      <td>-0.595761</td>\n",
       "      <td>-0.323802</td>\n",
       "      <td>0.002910</td>\n",
       "      <td>0.039074</td>\n",
       "      <td>B1012-278-1</td>\n",
       "      <td>1</td>\n",
       "      <td>9</td>\n",
       "      <td>0</td>\n",
       "      <td>0</td>\n",
       "    </tr>\n",
       "  </tbody>\n",
       "</table>\n",
       "<p>5 rows × 281 columns</p>\n",
       "</div>"
      ],
      "text/plain": [
       "   fDie1wflow_en0  fDie1wflow_en1  fDie1wflow_en2  fDie1wflow_en3  \\\n",
       "0       21.692999        0.759790       -0.968287       13.580341   \n",
       "1       22.802261        1.165540       -0.969839       15.000215   \n",
       "2       23.670288        1.490633       -0.969832       15.979490   \n",
       "3       23.920792        2.118496       -0.968945       15.828067   \n",
       "4       24.256344        2.081036       -0.970541       16.486008   \n",
       "\n",
       "   fDie1wflow_en4  fDie1wflow_mse  fDie1wflow_mae  fDie2wflow_en0  \\\n",
       "0       -0.567633        0.002722        0.038137        9.908647   \n",
       "1       -0.767543        0.002549        0.035166        9.719274   \n",
       "2       -0.831797        0.002225        0.031885        9.586231   \n",
       "3       -0.853646        0.001940        0.026800        9.413850   \n",
       "4       -0.890179        0.001000        0.020291        9.127824   \n",
       "\n",
       "   fDie2wflow_en1  fDie2wflow_en2  ...  tiebar_en13  tiebar_en14  tiebar_en15  \\\n",
       "0        1.283877       -0.999141  ...    -0.483169    -0.611454    -0.387602   \n",
       "1        1.268317       -0.999214  ...    -0.477430    -0.606745    -0.379443   \n",
       "2        0.992506       -0.999257  ...    -0.474928    -0.604088    -0.373460   \n",
       "3        0.393041       -0.999068  ...    -0.462039    -0.586925    -0.352818   \n",
       "4        0.392960       -0.999210  ...    -0.443705    -0.595761    -0.323802   \n",
       "\n",
       "   tiebar_mse  tiebar_mae         Part  Shift  Shot_no  dayOfWeek  defect  \n",
       "0    0.002732    0.035002  B1012-278-1      1        5          0       0  \n",
       "1    0.002792    0.035812  B1012-278-1      1        6          0       0  \n",
       "2    0.002860    0.037235  B1012-278-1      1        7          0       0  \n",
       "3    0.002696    0.037237  B1012-278-1      1        8          0       0  \n",
       "4    0.002910    0.039074  B1012-278-1      1        9          0       0  \n",
       "\n",
       "[5 rows x 281 columns]"
      ]
     },
     "execution_count": 4,
     "metadata": {},
     "output_type": "execute_result"
    }
   ],
   "source": [
    "total_features_df = total_data_df.drop(['File_No', 'Die', 'Cast_date','cav1_defect','cav2_defect','defect_smoothed'], axis=1)\n",
    "total_features_df.head()"
   ]
  },
  {
   "cell_type": "code",
   "execution_count": 107,
   "metadata": {},
   "outputs": [
    {
     "data": {
      "text/plain": [
       "(107569, 284)"
      ]
     },
     "execution_count": 107,
     "metadata": {},
     "output_type": "execute_result"
    }
   ],
   "source": [
    "features_df = total_features_df.drop(['defect'], axis=1)\n",
    "features_df = pd.get_dummies(features_df)\n",
    "labels_df = total_features_df.loc[:, ['defect']]\n",
    "features_df.head()\n",
    "features_df.shape"
   ]
  },
  {
   "cell_type": "code",
   "execution_count": 10,
   "metadata": {},
   "outputs": [],
   "source": [
    "from sklearn.ensemble import ExtraTreesClassifier\n",
    "from sklearn.feature_selection import SelectFromModel"
   ]
  },
  {
   "cell_type": "code",
   "execution_count": 16,
   "metadata": {},
   "outputs": [
    {
     "name": "stderr",
     "output_type": "stream",
     "text": [
      "C:\\Users\\z0041psk\\AppData\\Local\\Continuum\\anaconda3\\envs\\tf_gpu\\lib\\site-packages\\ipykernel_launcher.py:2: DataConversionWarning: A column-vector y was passed when a 1d array was expected. Please change the shape of y to (n_samples,), for example using ravel().\n",
      "  \n"
     ]
    },
    {
     "name": "stdout",
     "output_type": "stream",
     "text": [
      "[0.00330999 0.00299425 0.00345003 0.00340043 0.0030113  0.00374442\n",
      " 0.00368987 0.00338974 0.00319675 0.00320097 0.00338893 0.00362383\n",
      " 0.00400293 0.00382792 0.00363533 0.00314013 0.00335597 0.00331339\n",
      " 0.00324023 0.00350499 0.00339102 0.00297726 0.00309611 0.00312936\n",
      " 0.00347063 0.00329024 0.00349017 0.0034685  0.00341364 0.00391564\n",
      " 0.00407523 0.00344032 0.00339674 0.00418261 0.00388741 0.00332149\n",
      " 0.00340943 0.00342874 0.00344161 0.00373002 0.00355409 0.00377118\n",
      " 0.00374722 0.00394619 0.00380915 0.00376208 0.00384827 0.00400253\n",
      " 0.00414543 0.00355317 0.0033759  0.00324061 0.0033411  0.00347718\n",
      " 0.00291222 0.00338311 0.00388671 0.00376994 0.00309821 0.00377149\n",
      " 0.00348611 0.00313683 0.00351816 0.00344766 0.00395468 0.00326502\n",
      " 0.0033807  0.00357064 0.00370138 0.00390096 0.00311104 0.00373858\n",
      " 0.00343216 0.0031682  0.00371435 0.00365801 0.00364912 0.00387704\n",
      " 0.00374662 0.00371992 0.00336599 0.00382279 0.0039548  0.00350765\n",
      " 0.00353799 0.00355106 0.00338656 0.00364366 0.00331146 0.00338228\n",
      " 0.00329693 0.00348198 0.00308679 0.00298852 0.00328793 0.00331441\n",
      " 0.00351798 0.00308865 0.00371947 0.0033268  0.00350634 0.00343854\n",
      " 0.00341778 0.00329806 0.00380321 0.00346784 0.00349183 0.00371018\n",
      " 0.00328638 0.00376286 0.00350985 0.00314948 0.00367305 0.00375776\n",
      " 0.00359097 0.00401362 0.00367799 0.0036358  0.00323355 0.00351496\n",
      " 0.00335525 0.00345673 0.00353424 0.00342489 0.00340985 0.0038931\n",
      " 0.00329106 0.00318049 0.0033433  0.00342756 0.00320208 0.00371151\n",
      " 0.00381127 0.00347064 0.00347481 0.00308634 0.00368326 0.00368717\n",
      " 0.00372782 0.0035199  0.00364003 0.00314981 0.00345185 0.00355176\n",
      " 0.00352669 0.00337475 0.00339222 0.00330026 0.00342042 0.0037094\n",
      " 0.00364675 0.00379596 0.00364108 0.00369366 0.00367045 0.00317728\n",
      " 0.00366512 0.00360509 0.0033141  0.00344008 0.00310877 0.00334941\n",
      " 0.00362739 0.00337046 0.0034767  0.00345079 0.00363717 0.00333303\n",
      " 0.00320099 0.00343715 0.00366653 0.00311992 0.00317571 0.00315204\n",
      " 0.00334717 0.00331842 0.00327143 0.00344874 0.0034942  0.00329773\n",
      " 0.00315929 0.00293399 0.00324457 0.0036433  0.00378798 0.00370764\n",
      " 0.00413287 0.00380181 0.00367365 0.00351386 0.00381729 0.00402549\n",
      " 0.00383426 0.00381523 0.00403165 0.00415382 0.00364347 0.00410961\n",
      " 0.00374896 0.00345804 0.00338806 0.00387406 0.00392331 0.00419615\n",
      " 0.00425274 0.00337151 0.00340177 0.00333189 0.0035503  0.00356826\n",
      " 0.00341866 0.003398   0.00355061 0.00312327 0.0033311  0.00349299\n",
      " 0.00399762 0.00370013 0.00315951 0.00355698 0.00355291 0.00331789\n",
      " 0.00354872 0.00377112 0.00347629 0.00377278 0.00362698 0.00315963\n",
      " 0.00342484 0.00332255 0.0037897  0.00337851 0.00338532 0.00332038\n",
      " 0.00321004 0.00338462 0.00336243 0.00438767 0.00428205 0.00431975\n",
      " 0.00426883 0.00422858 0.00426313 0.00410969 0.00415837 0.00413633\n",
      " 0.00362668 0.00419257 0.00302806 0.00452219 0.00517074 0.00456434\n",
      " 0.004135   0.00446301 0.00384483 0.00313989 0.00445524 0.00387105\n",
      " 0.00374049 0.0039499  0.00403956 0.00354537 0.00386673 0.00424336\n",
      " 0.00410435 0.00383518 0.00407639 0.00409121 0.00422089 0.00360154\n",
      " 0.00424148 0.00399213 0.00392583 0.00363547 0.00392753 0.00341381\n",
      " 0.0020332  0.00371337 0.00182455 0.00041621 0.00022026 0.00015746\n",
      " 0.00026597 0.00051527]\n"
     ]
    },
    {
     "data": {
      "text/plain": [
       "(107569, 50)"
      ]
     },
     "execution_count": 16,
     "metadata": {},
     "output_type": "execute_result"
    }
   ],
   "source": [
    "clf = ExtraTreesClassifier(n_estimators=50)\n",
    "clf = clf.fit(features_df, labels_df)\n",
    "print(clf.feature_importances_  )\n",
    "\n",
    "model = SelectFromModel(clf, prefit=True,max_features=50)\n",
    "X_new = model.transform(features_df)\n",
    "X_new.shape "
   ]
  },
  {
   "cell_type": "code",
   "execution_count": 19,
   "metadata": {},
   "outputs": [],
   "source": [
    "feature_idx = model.get_support()\n",
    "feature_name = features_df.columns[feature_idx]"
   ]
  },
  {
   "cell_type": "code",
   "execution_count": 21,
   "metadata": {},
   "outputs": [
    {
     "data": {
      "text/plain": [
       "Index(['fDie2wflow_mse', 'mDie3wflow_en1', 'mDie3wflow_en2', 'mDie3wflow_mse',\n",
       "       'mDie3wflow_mae', 'tipwflow_en1', 'tipwflow_mse', 'tipwflow_mae',\n",
       "       'core3_en7', 'core3_en15', 'core3_en20', 'core3_mae', 'core4_mse',\n",
       "       'core5_en8', 'ep_en1', 'ep_en6', 'ep_en9', 'ep_en10', 'ep_en12',\n",
       "       'ep_en17', 'ep_mse', 'ep_mae', 'injection_en11', 'injection_mse',\n",
       "       'injection_mae', 'lub_en0', 'lub_en1', 'lub_en2', 'lub_en3', 'lub_en4',\n",
       "       'lub_mse', 'lub_mae', 'melt_Al_hight', 'shot_Vel1', 'shot_Vel2',\n",
       "       'shot_Vel3', 'shot_Vel4', 'shot_Pos1', 'shot_Inten.Time', 'tiebar_en1',\n",
       "       'tiebar_en2', 'tiebar_en5', 'tiebar_en6', 'tiebar_en8', 'tiebar_en9',\n",
       "       'tiebar_en10', 'tiebar_en12', 'tiebar_en13', 'tiebar_en14',\n",
       "       'tiebar_mse'],\n",
       "      dtype='object')"
      ]
     },
     "execution_count": 21,
     "metadata": {},
     "output_type": "execute_result"
    }
   ],
   "source": [
    "feature_name"
   ]
  },
  {
   "cell_type": "code",
   "execution_count": 27,
   "metadata": {},
   "outputs": [
    {
     "ename": "ModuleNotFoundError",
     "evalue": "No module named 'fuzzy.fuzzycmeans'",
     "output_type": "error",
     "traceback": [
      "\u001b[1;31m---------------------------------------------------------------------------\u001b[0m",
      "\u001b[1;31mModuleNotFoundError\u001b[0m                       Traceback (most recent call last)",
      "\u001b[1;32m<ipython-input-27-95dea03ac0a6>\u001b[0m in \u001b[0;36m<module>\u001b[1;34m\u001b[0m\n\u001b[1;32m----> 1\u001b[1;33m \u001b[1;32mfrom\u001b[0m \u001b[0mfuzzy\u001b[0m\u001b[1;33m.\u001b[0m\u001b[0mfuzzycmeans\u001b[0m \u001b[1;32mimport\u001b[0m \u001b[0mFuzzyCMeans\u001b[0m\u001b[1;33m\u001b[0m\u001b[1;33m\u001b[0m\u001b[0m\n\u001b[0m",
      "\u001b[1;31mModuleNotFoundError\u001b[0m: No module named 'fuzzy.fuzzycmeans'"
     ]
    }
   ],
   "source": []
  },
  {
   "cell_type": "code",
   "execution_count": null,
   "metadata": {},
   "outputs": [],
   "source": [
    "# PCA\n",
    "from sklearn.decomposition import PCA\n",
    "from sklearn.preprocessing import StandardScaler\n",
    "\n",
    "scaler = StandardScaler()\n",
    "scaled_features = scaler.fit_transform(features_df)\n",
    "print(scaled_features.shape)\n",
    "\n"
   ]
  },
  {
   "cell_type": "code",
   "execution_count": null,
   "metadata": {},
   "outputs": [],
   "source": [
    "pca = PCA(n_components=30)\n",
    "trans_features = pca.fit_transform(scaled_features)\n",
    "\n",
    "print('Total variance explained:', pca.explained_variance_ratio_.sum())\n",
    "plt.semilogy(pca.explained_variance_ratio_.cumsum())"
   ]
  },
  {
   "cell_type": "code",
   "execution_count": null,
   "metadata": {},
   "outputs": [],
   "source": [
    "target = labels_df.defect.values\n",
    "print(target.shape)\n",
    "print(trans_features.shape)\n",
    "#from sklearn.model_selection import train_test_split\n",
    "#X_train, X_test, y_train, y_test = train_test_split(\n",
    "#    trans_features, target, test_size=0.4, random_state=42)\n",
    " \n",
    "#linear_regression(X_train,y_train)"
   ]
  },
  {
   "cell_type": "code",
   "execution_count": null,
   "metadata": {},
   "outputs": [],
   "source": [
    "total_features_df.defect.value_counts().plot(kind='bar', title='Count (target)');\n",
    "trans_features.shape"
   ]
  },
  {
   "cell_type": "code",
   "execution_count": null,
   "metadata": {},
   "outputs": [],
   "source": [
    "#Apply undersampling\n",
    "from imblearn.under_sampling import RandomUnderSampler\n",
    "#from imblearn.under_sampling import CondensedNearestNeighbour\n",
    "rus = RandomUnderSampler(random_state=10)\n",
    "X_res, y_res = rus.fit_resample(trans_features,target)\n",
    "#fig = plt.figure()\n",
    "#ax = fig.add_subplot(1, 1, 1)\n",
    "print(X_res.shape)"
   ]
  },
  {
   "cell_type": "code",
   "execution_count": null,
   "metadata": {},
   "outputs": [],
   "source": [
    "from collections import Counter\n",
    "Counter(y_res).keys() # equals to list(set(words))\n",
    "#Counter(y_res).values() "
   ]
  },
  {
   "cell_type": "code",
   "execution_count": null,
   "metadata": {},
   "outputs": [],
   "source": [
    "from sklearn.model_selection import train_test_split\n",
    "X_train, X_test, y_train, y_test = train_test_split(\n",
    "    X_res, y_res, test_size=0.4, random_state=42)\n"
   ]
  },
  {
   "cell_type": "code",
   "execution_count": null,
   "metadata": {},
   "outputs": [],
   "source": []
  },
  {
   "cell_type": "code",
   "execution_count": null,
   "metadata": {},
   "outputs": [],
   "source": [
    "from sklearn.gaussian_process import GaussianProcessRegressor\n",
    "from sklearn.gaussian_process.kernels import DotProduct, WhiteKernel\n",
    "kernel = DotProduct() + WhiteKernel()"
   ]
  },
  {
   "cell_type": "code",
   "execution_count": null,
   "metadata": {},
   "outputs": [],
   "source": [
    "gpr = GaussianProcessRegressor(kernel=kernel,\n",
    "        random_state=0)\n",
    "gpr.fit(X_train, y_train)\n"
   ]
  },
  {
   "cell_type": "code",
   "execution_count": null,
   "metadata": {},
   "outputs": [],
   "source": [
    "y_pred, sigma = gpr.predict(X_test, return_std=True)\n",
    "y_pred_nr=(y_pred>0.5)"
   ]
  },
  {
   "cell_type": "code",
   "execution_count": null,
   "metadata": {},
   "outputs": [],
   "source": [
    "from sklearn.metrics import confusion_matrix\n",
    "confusion_matrix(y_test,y_pred_nr)"
   ]
  },
  {
   "cell_type": "code",
   "execution_count": null,
   "metadata": {},
   "outputs": [],
   "source": [
    "from sklearn.metrics import mean_squared_error\n",
    "from sklearn.metrics import mean_absolute_error\n",
    "mean_absolute_error(y_test,y_pred)\n",
    "#mean_squared_error(y_test,y_pred)"
   ]
  },
  {
   "cell_type": "code",
   "execution_count": null,
   "metadata": {},
   "outputs": [],
   "source": [
    "X_test"
   ]
  },
  {
   "cell_type": "code",
   "execution_count": null,
   "metadata": {},
   "outputs": [],
   "source": [
    "plt.scatter(y_test, y_pred, color='red')\n",
    "plt.xlabel('True Values')\n",
    "plt.ylabel('Predictions')\n",
    "#plt.plot(X_test, y_pred, color='blue', linewidth=3)\n",
    "#print(X_test.shape,y_test.shape,y_pred.shape)"
   ]
  },
  {
   "cell_type": "code",
   "execution_count": null,
   "metadata": {},
   "outputs": [],
   "source": [
    "  "
   ]
  },
  {
   "cell_type": "code",
   "execution_count": null,
   "metadata": {
    "scrolled": true
   },
   "outputs": [],
   "source": [
    "from yellowbrick.regressor import ResidualsPlot\n",
    "gpr = GaussianProcessRegressor(kernel=kernel,\n",
    "        random_state=0)\n",
    "visualizer = ResidualsPlot(gpr)\n",
    "visualizer.fit(X_train, y_train)  # Fit the training data to the model\n",
    "visualizer.score(X_test, y_test)  # Evaluate the model on the test data\n",
    "visualizer.poof()   "
   ]
  },
  {
   "cell_type": "code",
   "execution_count": null,
   "metadata": {},
   "outputs": [],
   "source": [
    "from imblearn.under_sampling import AllKNN \n",
    "allknn = AllKNN()\n",
    "X_res, y_res = allknn.fit_resample(trans_features,target)\n",
    "X_res.shape"
   ]
  },
  {
   "cell_type": "code",
   "execution_count": null,
   "metadata": {},
   "outputs": [],
   "source": [
    "X_res.shape"
   ]
  },
  {
   "cell_type": "code",
   "execution_count": null,
   "metadata": {},
   "outputs": [],
   "source": [
    "from sklearn.model_selection import train_test_split\n",
    "X_train, X_test, y_train, y_test = train_test_split(\n",
    "    X_res, y_res, test_size=0.4, random_state=42)\n",
    "X_train.shape"
   ]
  },
  {
   "cell_type": "code",
   "execution_count": null,
   "metadata": {},
   "outputs": [],
   "source": [
    "type(X_train)"
   ]
  },
  {
   "cell_type": "code",
   "execution_count": null,
   "metadata": {},
   "outputs": [],
   "source": [
    "y_train[:1000].shape"
   ]
  },
  {
   "cell_type": "code",
   "execution_count": null,
   "metadata": {},
   "outputs": [],
   "source": [
    "import george\n",
    "from sklearn.gaussian_process.kernels import RBF\n",
    "kernel = 1.0 * RBF(1.0)\n",
    "gp = george.GP(kernel, solver=george.HODLRSolver)"
   ]
  },
  {
   "cell_type": "code",
   "execution_count": null,
   "metadata": {},
   "outputs": [],
   "source": [
    "gp.compute(X_train)"
   ]
  },
  {
   "cell_type": "code",
   "execution_count": null,
   "metadata": {},
   "outputs": [],
   "source": [
    "from sklearn.gaussian_process import GaussianProcessClassifier\n",
    "from sklearn.gaussian_process.kernels import RBF\n",
    "kernel = 1.0 * RBF(1.0)\n",
    "gpc = GaussianProcessClassifier(kernel=kernel,\n",
    "        random_state=0, copy_X_train=False).fit(X_train,y_train)\n",
    "gpc.score(X_train,y_train) \n"
   ]
  },
  {
   "cell_type": "code",
   "execution_count": null,
   "metadata": {},
   "outputs": [],
   "source": [
    "from sklearn import gaussian_process\n",
    "from sklearn.gaussian_process.kernels import Matern, WhiteKernel, ConstantKernel"
   ]
  },
  {
   "cell_type": "code",
   "execution_count": null,
   "metadata": {},
   "outputs": [],
   "source": [
    "kernel = ConstantKernel() + Matern(length_scale=2, nu=3/2) + WhiteKernel(noise_level=1)"
   ]
  },
  {
   "cell_type": "code",
   "execution_count": null,
   "metadata": {},
   "outputs": [],
   "source": [
    "gp = gaussian_process.GaussianProcessRegressor(kernel=kernel)\n",
    "gp.fit(trans_features, target)\n",
    "\n",
    "GaussianProcessRegressor(alpha=1e-10, copy_X_train=True,\n",
    "kernel=1**2 + Matern(length_scale=2, nu=1.5) + WhiteKernel(noise_level=1),\n",
    "n_restarts_optimizer=0, normalize_y=False,\n",
    "optimizer='fmin_l_bfgs_b', random_state=None)"
   ]
  },
  {
   "cell_type": "code",
   "execution_count": null,
   "metadata": {},
   "outputs": [],
   "source": [
    "def roll(x):\n",
    "\n",
    "    #return x.rolling(10,win_type=type).mean().shift(-9)\n",
    "    return x.rolling(10).mean().shift(-9)"
   ]
  },
  {
   "cell_type": "code",
   "execution_count": null,
   "metadata": {},
   "outputs": [],
   "source": [
    "diff = total_data_df['shotNum'].diff().ne(1).cumsum()\n",
    "total_data_df[['cav1_defect','cav2_defect','defect']]=total_data_df.groupby(['Cast_date','shift',diff])['cav1_defect','cav2_defect','defect'].shift()#.apply(lambda x: roll(x))\n",
    "#total_data_df['regressed'].fillna(total_data_df['target'],inplace=True)"
   ]
  },
  {
   "cell_type": "code",
   "execution_count": null,
   "metadata": {},
   "outputs": [],
   "source": [
    "total_data_df[['cav1_defect','cav2_defect','defect']]=total_data_df[['cav1_defect','cav2_defect','defect']].fillna(value=0)"
   ]
  },
  {
   "cell_type": "code",
   "execution_count": null,
   "metadata": {},
   "outputs": [],
   "source": [
    "#total_data_df.regressed.value_counts()\n",
    "total_data_df.drop(['Cast_date','Week','dayOfWeek','shotNum','shift','difference_file'],inplace=True,axis=1)"
   ]
  },
  {
   "cell_type": "code",
   "execution_count": null,
   "metadata": {},
   "outputs": [],
   "source": [
    "total_data_df.drop(['Part'],inplace=True,axis=1)"
   ]
  },
  {
   "cell_type": "code",
   "execution_count": null,
   "metadata": {},
   "outputs": [],
   "source": [
    "import pandas as pd  \n",
    "import numpy as np  \n",
    "from sklearn.model_selection import train_test_split  \n",
    "from sklearn.feature_selection import VarianceThreshold\n",
    " \n",
    "\n",
    "train_features, test_features, train_labels, test_labels = train_test_split(  \n",
    "    total_data_df.drop(labels=['File_No', 'Part','Die','Shift','Shot_no'], axis=1),\n",
    "    total_data_df['cav1_defect'],\n",
    "    test_size=0.2,\n",
    "    random_state=41)\n",
    "\n",
    "correlated_features = set()  \n",
    "correlation_matrix = total_data_df.corr()  \n",
    "for i in range(len(correlation_matrix.columns)):  \n",
    "    for j in range(i):\n",
    "        if abs(correlation_matrix.iloc[i, j]) > 0.8:\n",
    "            colname = correlation_matrix.columns[i]\n",
    "            correlated_features.add(colname)\n",
    "total_data_df"
   ]
  },
  {
   "cell_type": "code",
   "execution_count": null,
   "metadata": {},
   "outputs": [],
   "source": [
    "train_features.drop(labels=correlated_features, axis=1, inplace=True)  \n",
    "test_features.drop(labels=correlated_features, axis=1, inplace=True)\n"
   ]
  },
  {
   "cell_type": "code",
   "execution_count": null,
   "metadata": {},
   "outputs": [],
   "source": [
    "features_df = total_data_df.iloc[:,1:-1]\n",
    "label_df = total_data_df.iloc[:, -3:-2]\n",
    "print(features_df.shape)\n",
    "print(label_df.shape)"
   ]
  },
  {
   "cell_type": "code",
   "execution_count": null,
   "metadata": {},
   "outputs": [],
   "source": [
    "scaler = StandardScaler()\n",
    "scaled_features = scaler.fit_transform(features_df)\n",
    "print(scaled_features.shape)\n",
    "print(scaled_features)\n",
    "target = label_df.values.squeeze()\n",
    "target"
   ]
  },
  {
   "cell_type": "code",
   "execution_count": null,
   "metadata": {},
   "outputs": [],
   "source": [
    "from sklearn.manifold import TSNE"
   ]
  },
  {
   "cell_type": "code",
   "execution_count": null,
   "metadata": {},
   "outputs": [],
   "source": [
    "X_embedded = TSNE(n_compon"
   ]
  },
  {
   "cell_type": "code",
   "execution_count": null,
   "metadata": {},
   "outputs": [],
   "source": []
  },
  {
   "cell_type": "code",
   "execution_count": null,
   "metadata": {},
   "outputs": [],
   "source": [
    "from sklearn import linear_model\n",
    "\n",
    "ransac = linear_model.RANSACRegressor()\n",
    "ransac.fit(X_grd, target)\n",
    "\n",
    "print(ransac.score(X_grd, target))"
   ]
  },
  {
   "cell_type": "code",
   "execution_count": null,
   "metadata": {},
   "outputs": [],
   "source": [
    "gpr = GaussianProcessRegressor(kernel=kernel,\n",
    "        random_state=0).fit(X_grd, label_df)\n",
    "#gp.fit(train_features, train_labels)"
   ]
  },
  {
   "cell_type": "code",
   "execution_count": null,
   "metadata": {},
   "outputs": [],
   "source": [
    "from sklearn.ensemble import RandomForestRegressor, RandomForestClassifier  \n",
    "from sklearn.metrics import roc_auc_score\n",
    "\n",
    "from mlxtend.feature_selection import SequentialFeatureSelector\n",
    "\n",
    "feature_selector = SequentialFeatureSelector(RandomForestClassifier(n_jobs=-1),  \n",
    "           k_features=15,\n",
    "           forward=True,\n",
    "           verbose=2,\n",
    "           scoring='roc_auc',\n",
    "           cv=4)"
   ]
  },
  {
   "cell_type": "code",
   "execution_count": null,
   "metadata": {},
   "outputs": [],
   "source": [
    "features = feature_selector.fit(np.array(train_features.fillna(0)), train_labels)  "
   ]
  },
  {
   "cell_type": "code",
   "execution_count": null,
   "metadata": {},
   "outputs": [],
   "source": [
    "from sklearn import preprocessing\n",
    "from sklearn import utils\n",
    "lab_enc = preprocessing.LabelEncoder()\n",
    "training_scores_encoded = lab_enc.fit_transform(label_df)\n",
    "print(training_scores_encoded)\n",
    "print(utils.multiclass.type_of_target(label_df))\n",
    "print(utils.multiclass.type_of_target(label_df.astype('int')))\n",
    "print(utils.multiclass.type_of_target(training_scores_encoded))"
   ]
  },
  {
   "cell_type": "code",
   "execution_count": null,
   "metadata": {},
   "outputs": [],
   "source": [
    "from sklearn.model_selection import train_test_split\n",
    "train_features, test_features, train_labels, test_labels = train_test_split(\n",
    "    scaled_features, label_df, test_size=0.4, random_state=42)\n",
    " \n"
   ]
  },
  {
   "cell_type": "code",
   "execution_count": null,
   "metadata": {},
   "outputs": [],
   "source": [
    "features = feature_selector.fit(np.array(train_features), train_labels)"
   ]
  },
  {
   "cell_type": "code",
   "execution_count": null,
   "metadata": {},
   "outputs": [],
   "source": [
    "filtered_features= train_features.columns[list(features.k_feature_idx_)]  \n",
    "filtered_features"
   ]
  },
  {
   "cell_type": "code",
   "execution_count": null,
   "metadata": {},
   "outputs": [],
   "source": [
    "cor_target = abs(corr[\"regressed\"])\n",
    "#Selecting highly correlated features\n",
    "relevant_features = cor_target[cor_target>0.5]\n",
    "relevant_features"
   ]
  },
  {
   "cell_type": "code",
   "execution_count": null,
   "metadata": {},
   "outputs": [],
   "source": [
    "leakage_cav1_file = os.path.join(data_folder, 'leakage_data_cav1.csv')\n",
    "leakage_cav2_file = os.path.join(data_folder, 'leakage_data_cav2.csv')\n",
    "\n",
    "leakage_cav1_df = pd.read_csv(leakage_cav1_file, index_col=0)\n",
    "leakage_cav2_df = pd.read_csv(leakage_cav2_file, index_col=0)"
   ]
  },
  {
   "cell_type": "code",
   "execution_count": null,
   "metadata": {},
   "outputs": [],
   "source": [
    " leakage_df = pd.merge(left=leakage_cav1_df, right=leakage_cav2_df, on='File_No')\n",
    "print(leakage_df.shape)\n",
    "leakage_df.head()\n",
    "from scipy.stats import ks_2samp\n",
    "\n",
    "cav1_result = leakage_df['ratio_value_x'].values\n",
    "cav2_result = leakage_df['ratio_value_y'].values\n",
    "\n",
    "#ks_2samp(cav1_result, cav2_result) \n",
    "#Ks_2sampResult(statistic=0.01791426743442104, pvalue=0.265966382307893)\n",
    "leakage_df['target_val'] = (leakage_df['ratio_value_x'] + leakage_df['ratio_value_y'])/2\n",
    "leakage_data_df = pd.merge(left=data_df, right=leakage_df.loc[:,['File_No', 'target_val']], on='File_No')\n",
    "leakage_data_df = pd.merge(left=leakage_data_df, right=total_data_df.loc[:, ['File_No', 'target']], on='File_No')\n",
    "print(leakage_data_df.shape)\n",
    "leakage_data_df.head()"
   ]
  },
  {
   "cell_type": "code",
   "execution_count": null,
   "metadata": {},
   "outputs": [],
   "source": [
    "reg_features_df = leakage_data_df.iloc[:,1:-2]\n",
    "reg_label_df = leakage_data_df.iloc[:,-2:-1]"
   ]
  },
  {
   "cell_type": "code",
   "execution_count": null,
   "metadata": {},
   "outputs": [],
   "source": [
    "scaler_reg = StandardScaler()\n",
    "features_reg_scaled = scaler_reg.fit_transform(reg_features_df)\n",
    "target_reg = reg_label_df.values.squeeze()"
   ]
  },
  {
   "cell_type": "code",
   "execution_count": null,
   "metadata": {},
   "outputs": [],
   "source": [
    "from sklearn import linear_model\n",
    "\n",
    "ransac = linear_model.RANSACRegressor()\n",
    "ransac.fit(train_features, train_labels)\n",
    "\n",
    "print(ransac.score(train_features, train_labels))"
   ]
  },
  {
   "cell_type": "code",
   "execution_count": null,
   "metadata": {},
   "outputs": [],
   "source": [
    "predictions = ransac.predict(features_reg_scaled)\n",
    "inlier_mask = ransac.inlier_mask_\n",
    "outlier_mask = np.logical_not(inlier_mask)\n",
    "print(inlier_mask.sum())\n",
    "print(outlier_mask.sum())\n",
    "print(predictions.shape)\n",
    "print(target_reg.shape)\n",
    "plt.scatter(target_reg[inlier_mask], predictions[inlier_mask], c='b')\n",
    "plt.scatter(target_reg[outlier_mask], predictions[outlier_mask], c='r')\n",
    "plt.ylim([-0.5,10])"
   ]
  },
  {
   "cell_type": "code",
   "execution_count": null,
   "metadata": {},
   "outputs": [],
   "source": [
    "from sklearn import preprocessing\n",
    "from sklearn import utils\n",
    "lab_enc = preprocessing.LabelEncoder()\n",
    "training_scores_encoded = lab_enc.fit_transform(label_df)\n",
    "print(training_scores_encoded)\n",
    "print(utils.multiclass.type_of_target(label_df))\n",
    "print(utils.multiclass.type_of_target(label_df.astype('int')))\n",
    "print(utils.multiclass.type_of_target(training_scores_encoded))"
   ]
  },
  {
   "cell_type": "code",
   "execution_count": null,
   "metadata": {},
   "outputs": [],
   "source": [
    "from sklearn.feature_selection import RFE\n",
    "from sklearn.linear_model import LogisticRegression\n",
    "model = LogisticRegression()\n",
    "rfe = RFE(model, 15)\n",
    "fit = rfe.fit(features_df, training_scores_encoded)\n",
    "print(\"Num Features: %s\" % (fit.n_features_))\n",
    "print(\"Selected Features: %s\" % (fit.support_))\n",
    "print(\"Feature Ranking: %s\" % (fit.ranking_))"
   ]
  },
  {
   "cell_type": "code",
   "execution_count": null,
   "metadata": {},
   "outputs": [],
   "source": [
    "X_RFE = features_df[features_df.columns[rfe.support_]]"
   ]
  },
  {
   "cell_type": "code",
   "execution_count": null,
   "metadata": {},
   "outputs": [],
   "source": [
    "from sklearn import linear_model\n",
    "\n",
    "ransac = linear_model.RANSACRegressor()\n",
    "ransac.fit(X_RFE, training_scores_encoded)\n",
    "\n",
    "print(ransac.score(X_RFE, training_scores_encoded))"
   ]
  },
  {
   "cell_type": "code",
   "execution_count": null,
   "metadata": {},
   "outputs": [],
   "source": [
    "from sklearn.linear_model import LinearRegression\n",
    "from sklearn.metrics import mean_squared_error\n",
    "from sklearn import metrics"
   ]
  },
  {
   "cell_type": "code",
   "execution_count": null,
   "metadata": {},
   "outputs": [],
   "source": [
    "def lin_reg(X, y):  \n",
    "    X_train, X_test, y_train, y_test = train_test_split(X, y, test_size=0.25)\n",
    "    linreg=LinearRegression()\n",
    "    linreg.fit(X_train, y_train)\n",
    "    y_hat = linreg.predict(X_test)\n",
    "    y_hat_train = linreg.predict(X_train)\n",
    "    print('R_squared Score:', linreg.score(X, y))\n",
    "    #Display errors\n",
    "    #print('Mean Absolute Error:', mas(y_test, y_hat))\n",
    "    print('Root Mean Squared Error test:', np.sqrt(mean_squared_error(y_test, y_hat)))\n",
    "    print('Root Mean Squared Error train:', np.sqrt(mean_squared_error(y_train, y_hat_train)))\n",
    "    #Compare predicted and actual values\n",
    "    print('Mean Predicted:', y_hat.mean())\n",
    "    print('Mean actual:', y_test.mean())\n",
    "    return linreg\n",
    "#lin_reg(X_RFE, training_scores_encoded)"
   ]
  },
  {
   "cell_type": "code",
   "execution_count": null,
   "metadata": {},
   "outputs": [],
   "source": [
    "lin_reg(X_RFE, training_scores_encoded)"
   ]
  },
  {
   "cell_type": "code",
   "execution_count": null,
   "metadata": {},
   "outputs": [],
   "source": [
    "scaler = StandardScaler()\n",
    "scaled_features = scaler.fit_transform(features_df)\n",
    "print(scaled_features.shape)\n",
    "print(scaled_features)\n"
   ]
  },
  {
   "cell_type": "code",
   "execution_count": null,
   "metadata": {},
   "outputs": [],
   "source": [
    " reducer = umap.UMAP()\n",
    "embedding = reducer.fit_transform(scaled_features)\n",
    "print(embedding.shape)"
   ]
  },
  {
   "cell_type": "code",
   "execution_count": null,
   "metadata": {},
   "outputs": [],
   "source": [
    "classes = ['No Defect', 'Cav1 defect', 'Cav2 defect', 'C1 & C2 defect']\n",
    "target = label_df.values.squeeze()\n",
    "\n",
    "embedding_df = pd.DataFrame(data=embedding, columns=['embedding1', 'embedding2'], index=features_df.index)\n",
    "embedding_df['label'] = label_df['regressed'].map(dict(zip(range(4), classes)))\n",
    "embedding_df.sort_values(by='label', inplace=True, ascending=False)\n",
    "embedding_df.head()"
   ]
  },
  {
   "cell_type": "code",
   "execution_count": null,
   "metadata": {},
   "outputs": [],
   "source": [
    "fig, ax = plt.subplots(1, figsize=(25, 10))\n",
    "sns.scatterplot(data=embedding_df, x='embedding1', y='embedding2', hue='label', ax=ax)"
   ]
  },
  {
   "cell_type": "code",
   "execution_count": null,
   "metadata": {},
   "outputs": [],
   "source": [
    "total_data_df"
   ]
  },
  {
   "cell_type": "code",
   "execution_count": null,
   "metadata": {},
   "outputs": [],
   "source": [
    "reg_features_df = total_data_df.iloc[:,1:-1]\n",
    "reg_label_df = total_data_df.iloc[:,-1:]\n",
    "reg_features_df.head()"
   ]
  },
  {
   "cell_type": "code",
   "execution_count": null,
   "metadata": {},
   "outputs": [],
   "source": [
    "reg_label_df.head()"
   ]
  },
  {
   "cell_type": "code",
   "execution_count": null,
   "metadata": {},
   "outputs": [],
   "source": [
    "scaler_reg = StandardScaler()\n",
    "features_reg_scaled = scaler_reg.fit_transform(reg_features_df)\n",
    "target_reg = reg_label_df.values.squeeze()\n",
    "print(target_reg)\n",
    "features_reg_scaled.shape\n"
   ]
  },
  {
   "cell_type": "code",
   "execution_count": null,
   "metadata": {},
   "outputs": [],
   "source": []
  },
  {
   "cell_type": "code",
   "execution_count": null,
   "metadata": {},
   "outputs": [],
   "source": [
    "from sklearn import ensemble\n",
    "from sklearn.metrics import mean_squared_error"
   ]
  },
  {
   "cell_type": "code",
   "execution_count": null,
   "metadata": {},
   "outputs": [],
   "source": [
    "from sklearn.model_selection import train_test_split\n",
    "X_train, X_test, y_train, y_test = train_test_split(\n",
    "    features_reg_scaled, target_reg, test_size=0.4, random_state=42)\n",
    " \n"
   ]
  },
  {
   "cell_type": "code",
   "execution_count": null,
   "metadata": {},
   "outputs": [],
   "source": [
    "params = {'n_estimators': 500, 'max_depth': 8, 'min_samples_split': 2,\n",
    "          'learning_rate': 0.03, 'loss': 'huber'}\n",
    "clf = ensemble.GradientBoostingRegressor(**params)\n",
    "\n",
    "clf.fit(train_features, train_labels)\n",
    "mse = mean_squared_error(test_labels, clf.predict(test_features))\n",
    "print(\"MSE: %.4f\" % mse)"
   ]
  },
  {
   "cell_type": "code",
   "execution_count": null,
   "metadata": {},
   "outputs": [],
   "source": [
    "test_score = np.zeros((params['n_estimators'],), dtype=np.float64)\n",
    "\n",
    "for i, y_pred in enumerate(clf.staged_predict(X_test)):\n",
    "    test_score[i] = clf.loss_(y_test, y_pred)\n",
    "\n",
    "plt.figure(figsize=(12, 6))\n",
    "plt.subplot(1, 2, 1)\n",
    "plt.title('Deviance')\n",
    "plt.plot(np.arange(params['n_estimators']) + 1, clf.train_score_, 'b-',\n",
    "         label='Training Set Deviance')\n",
    "plt.plot(np.arange(params['n_estimators']) + 1, test_score, 'r-',\n",
    "         label='Test Set Deviance')\n",
    "plt.legend(loc='upper right')\n",
    "plt.xlabel('Boosting Iterations')\n",
    "plt.ylabel('Deviance')\n"
   ]
  },
  {
   "cell_type": "code",
   "execution_count": null,
   "metadata": {},
   "outputs": [],
   "source": []
  }
 ],
 "metadata": {
  "kernelspec": {
   "display_name": "Python 3",
   "language": "python",
   "name": "python3"
  },
  "language_info": {
   "codemirror_mode": {
    "name": "ipython",
    "version": 3
   },
   "file_extension": ".py",
   "mimetype": "text/x-python",
   "name": "python",
   "nbconvert_exporter": "python",
   "pygments_lexer": "ipython3",
   "version": "3.7.1"
  }
 },
 "nbformat": 4,
 "nbformat_minor": 2
}
