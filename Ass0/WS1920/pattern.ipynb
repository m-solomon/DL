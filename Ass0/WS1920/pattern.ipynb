{
 "cells": [
  {
   "cell_type": "code",
   "execution_count": 1,
   "metadata": {},
   "outputs": [],
   "source": [
    "import os.path\n",
    "import json\n",
    "import scipy.misc\n",
    "import numpy as np\n",
    "import matplotlib.pyplot as plt"
   ]
  },
  {
   "cell_type": "code",
   "execution_count": 66,
   "metadata": {},
   "outputs": [],
   "source": [
    "class Checker:\n",
    "    def __init__(self, resolution, tile_size):\n",
    "        self.resolution = resolution\n",
    "        self.tile_size = tile_size\n",
    "\n",
    "    def draw(self):\n",
    "        (Img_H, Img_W) = self.resolution\n",
    "        (tile_H, tile_W) = self.tile_size\n",
    "        if Img_H % (2*tile_H) == 0 and Img_W % (2*tile_W) == 0:\n",
    "            tb = np.zeros((tile_H, tile_W))\n",
    "            tw = np.ones((tile_H, tile_W))\n",
    "            chess = np.tile(np.concatenate((np.concatenate((tb, tw), axis=1), np.concatenate((tw, tb), axis=1)) ,axis=0),(Img_H//(2*tile_H),Img_W//(2*tile_W))).astype('float64')\n",
    "            return chess\n",
    "        else:\n",
    "            return print(\"Error: Resolution must be evenly dividable by 2*tile size in each dimention\")\n",
    "\n",
    "    def show(self):\n",
    "        plt.imshow(self.draw(), cmap=plt.cm.gray)\n",
    "        plt.show()\n",
    "\n",
    "        \n",
    "        \n",
    "class Color_Spectrum:\n",
    "    def __init__(self, resolution):\n",
    "        self.resolution = resolution\n",
    "\n",
    "    def draw(self):\n",
    "        (spec_H, spec_W) = self.resolution\n",
    "        rgbArray = np.zeros((spec_H,spec_W,3))\n",
    "        rgbArray[:,:,0] = np.tile(np.linspace(0, 1, spec_W), (spec_H,1))\n",
    "        rgbArray[:,:,1] = np.tile(np.linspace(0, 1, spec_H), (spec_W,1)).T\n",
    "        rgbArray[:,:,2] = np.flip(rgbArray[:,:,0])\n",
    "              \n",
    "        return rgbArray\n",
    "\n",
    "    def show(self):\n",
    "        plt.imshow(self.draw())\n",
    "        plt.show()\n",
    "        \n",
    "class Circle:\n",
    "    def __init__(self, resolution, radius, position):\n",
    "        self.resolution = resolution\n",
    "        self.radius = radius\n",
    "        self.position = position\n",
    "\n",
    "    def draw(self):\n",
    "        (spec_H, spec_W) = self.resolution\n",
    "        r = self.radius\n",
    "        (cx, cy) = self.position\n",
    "        X = np.tile(np.arange(0,spec_W,1), (spec_H,1))\n",
    "        Y = np.tile(np.arange(0,spec_H,1), (spec_W,1)).T\n",
    "        C = lambda x, y: (x-cx)**2 + (y-cy)**2 - r**2\n",
    "        s = np.sign(C(X,Y))\n",
    "        s[s == -1] = 0\n",
    "        Circle = np.invert(s)+2\n",
    "              \n",
    "        return Circle\n",
    "\n",
    "    def show(self):\n",
    "        plt.imshow(self.draw(), cmap=plt.cm.gray)\n",
    "        plt.show()\n"
   ]
  },
  {
   "cell_type": "code",
   "execution_count": 76,
   "metadata": {},
   "outputs": [],
   "source": [
    "r = (100, 150)\n",
    "t = (10,15)\n",
    "ch = Checker(r,t)"
   ]
  },
  {
   "cell_type": "code",
   "execution_count": 83,
   "metadata": {},
   "outputs": [
    {
     "data": {
      "text/plain": [
       "array([[0., 0., 0., ..., 1., 1., 1.],\n",
       "       [0., 0., 0., ..., 1., 1., 1.],\n",
       "       [0., 0., 0., ..., 1., 1., 1.],\n",
       "       ...,\n",
       "       [1., 1., 1., ..., 0., 0., 0.],\n",
       "       [1., 1., 1., ..., 0., 0., 0.],\n",
       "       [1., 1., 1., ..., 0., 0., 0.]])"
      ]
     },
     "execution_count": 83,
     "metadata": {},
     "output_type": "execute_result"
    }
   ],
   "source": [
    "ch.draw()"
   ]
  },
  {
   "cell_type": "code",
   "execution_count": 78,
   "metadata": {},
   "outputs": [
    {
     "data": {
      "image/png": "[encoded data removed]",
      "text/plain": [
       "<Figure size 432x288 with 1 Axes>"
      ]
     },
     "metadata": {
      "needs_background": "light"
     },
     "output_type": "display_data"
    }
   ],
   "source": [
    "ch.show()"
   ]
  },
  {
   "cell_type": "code",
   "execution_count": 80,
   "metadata": {},
   "outputs": [],
   "source": [
    "cs = Color_Spectrum((250,200))"
   ]
  },
  {
   "cell_type": "code",
   "execution_count": 84,
   "metadata": {},
   "outputs": [
    {
     "data": {
      "text/plain": [
       "array([[[0.        , 0.        , 1.        ],\n",
       "        [0.00502513, 0.        , 0.99497487],\n",
       "        [0.01005025, 0.        , 0.98994975],\n",
       "        ...,\n",
       "        [0.98994975, 0.        , 0.01005025],\n",
       "        [0.99497487, 0.        , 0.00502513],\n",
       "        [1.        , 0.        , 0.        ]],\n",
       "\n",
       "       [[0.        , 0.00401606, 1.        ],\n",
       "        [0.00502513, 0.00401606, 0.99497487],\n",
       "        [0.01005025, 0.00401606, 0.98994975],\n",
       "        ...,\n",
       "        [0.98994975, 0.00401606, 0.01005025],\n",
       "        [0.99497487, 0.00401606, 0.00502513],\n",
       "        [1.        , 0.00401606, 0.        ]],\n",
       "\n",
       "       [[0.        , 0.00803213, 1.        ],\n",
       "        [0.00502513, 0.00803213, 0.99497487],\n",
       "        [0.01005025, 0.00803213, 0.98994975],\n",
       "        ...,\n",
       "        [0.98994975, 0.00803213, 0.01005025],\n",
       "        [0.99497487, 0.00803213, 0.00502513],\n",
       "        [1.        , 0.00803213, 0.        ]],\n",
       "\n",
       "       ...,\n",
       "\n",
       "       [[0.        , 0.99196787, 1.        ],\n",
       "        [0.00502513, 0.99196787, 0.99497487],\n",
       "        [0.01005025, 0.99196787, 0.98994975],\n",
       "        ...,\n",
       "        [0.98994975, 0.99196787, 0.01005025],\n",
       "        [0.99497487, 0.99196787, 0.00502513],\n",
       "        [1.        , 0.99196787, 0.        ]],\n",
       "\n",
       "       [[0.        , 0.99598394, 1.        ],\n",
       "        [0.00502513, 0.99598394, 0.99497487],\n",
       "        [0.01005025, 0.99598394, 0.98994975],\n",
       "        ...,\n",
       "        [0.98994975, 0.99598394, 0.01005025],\n",
       "        [0.99497487, 0.99598394, 0.00502513],\n",
       "        [1.        , 0.99598394, 0.        ]],\n",
       "\n",
       "       [[0.        , 1.        , 1.        ],\n",
       "        [0.00502513, 1.        , 0.99497487],\n",
       "        [0.01005025, 1.        , 0.98994975],\n",
       "        ...,\n",
       "        [0.98994975, 1.        , 0.01005025],\n",
       "        [0.99497487, 1.        , 0.00502513],\n",
       "        [1.        , 1.        , 0.        ]]])"
      ]
     },
     "execution_count": 84,
     "metadata": {},
     "output_type": "execute_result"
    }
   ],
   "source": [
    "cs.draw()"
   ]
  },
  {
   "cell_type": "code",
   "execution_count": 85,
   "metadata": {},
   "outputs": [
    {
     "data": {
      "image/png": "[encoded data removed]",
      "text/plain": [
       "<Figure size 432x288 with 1 Axes>"
      ]
     },
     "metadata": {
      "needs_background": "light"
     },
     "output_type": "display_data"
    }
   ],
   "source": [
    "cs.show()"
   ]
  },
  {
   "cell_type": "code",
   "execution_count": 102,
   "metadata": {},
   "outputs": [],
   "source": [
    "res = (256,200)\n",
    "r = 45\n",
    "P = (100, 125)\n",
    "\n",
    "c = Circle(res, r, P)"
   ]
  },
  {
   "cell_type": "code",
   "execution_count": 103,
   "metadata": {},
   "outputs": [
    {
     "data": {
      "text/plain": [
       "array([[0, 0, 0, ..., 0, 0, 0],\n",
       "       [0, 0, 0, ..., 0, 0, 0],\n",
       "       [0, 0, 0, ..., 0, 0, 0],\n",
       "       ...,\n",
       "       [0, 0, 0, ..., 0, 0, 0],\n",
       "       [0, 0, 0, ..., 0, 0, 0],\n",
       "       [0, 0, 0, ..., 0, 0, 0]], dtype=int32)"
      ]
     },
     "execution_count": 103,
     "metadata": {},
     "output_type": "execute_result"
    }
   ],
   "source": [
    "c.draw()"
   ]
  },
  {
   "cell_type": "code",
   "execution_count": 104,
   "metadata": {},
   "outputs": [
    {
     "data": {
      "image/png": "[encoded data removed]",
      "text/plain": [
       "<Figure size 432x288 with 1 Axes>"
      ]
     },
     "metadata": {
      "needs_background": "light"
     },
     "output_type": "display_data"
    }
   ],
   "source": [
    "c.show()"
   ]
  },
  {
   "cell_type": "code",
   "execution_count": null,
   "metadata": {},
   "outputs": [],
   "source": []
  }
 ],
 "metadata": {
  "kernelspec": {
   "display_name": "Python 3",
   "language": "python",
   "name": "python3"
  },
  "language_info": {
   "codemirror_mode": {
    "name": "ipython",
    "version": 3
   },
   "file_extension": ".py",
   "mimetype": "text/x-python",
   "name": "python",
   "nbconvert_exporter": "python",
   "pygments_lexer": "ipython3",
   "version": "3.7.4"
  }
 },
 "nbformat": 4,
 "nbformat_minor": 2
}
